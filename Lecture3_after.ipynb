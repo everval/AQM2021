{
  "nbformat": 4,
  "nbformat_minor": 0,
  "metadata": {
    "colab": {
      "name": "Lecture3_after.ipynb",
      "provenance": [],
      "collapsed_sections": [],
      "include_colab_link": true
    },
    "kernelspec": {
      "name": "python3",
      "display_name": "Python 3"
    },
    "language_info": {
      "name": "python"
    }
  },
  "cells": [
    {
      "cell_type": "markdown",
      "metadata": {
        "id": "view-in-github",
        "colab_type": "text"
      },
      "source": [
        "<a href=\"https://colab.research.google.com/github/everval/AQM2021/blob/main/Lecture3_after.ipynb\" target=\"_parent\"><img src=\"https://colab.research.google.com/assets/colab-badge.svg\" alt=\"Open In Colab\"/></a>"
      ]
    },
    {
      "cell_type": "markdown",
      "metadata": {
        "id": "n3peQzx8gVQc"
      },
      "source": [
        "# Confidence Intervals and Hypothesis Tests "
      ]
    },
    {
      "cell_type": "markdown",
      "metadata": {
        "id": "Qi3e8MgUfaVY"
      },
      "source": [
        "## Our Simpsons example\n",
        "\n",
        "It is perhaps time to make a summary of what we have done in the last lectures. \n",
        "\n",
        "We do so by analyzing the steps that we have taken towards answering the question: is the Simpsons a good show?*\n",
        "\n",
        "First, as usual, we load the Python packages for analysis."
      ]
    },
    {
      "cell_type": "code",
      "metadata": {
        "id": "GP22-79G-w_u"
      },
      "source": [
        "import numpy as np #Package for numerical multidimensional tables\n",
        "import pandas as pd #Package for data frames\n",
        "import matplotlib.pyplot as plt #Package for plots and graphs\n",
        "import random as rnd #Package for random number generation\n",
        "from scipy.stats import norm #Import the Normal distribution from the scipy.stats package"
      ],
      "execution_count": null,
      "outputs": []
    },
    {
      "cell_type": "markdown",
      "metadata": {
        "id": "Gcw9pv2iPwaZ"
      },
      "source": [
        "We collected data on Simpsons and decided to make a histogram to see the ratings."
      ]
    },
    {
      "cell_type": "code",
      "metadata": {
        "colab": {
          "resources": {
            "http://localhost:8080/nbextensions/google.colab/files.js": {
              "data": "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",
              "ok": true,
              "headers": [
                [
                  "content-type",
                  "application/javascript"
                ]
              ],
              "status": 200,
              "status_text": "OK"
            }
          },
          "base_uri": "https://localhost:8080/",
          "height": 614
        },
        "id": "ddEVa8IDPvCl",
        "outputId": "4a4080fa-078d-4693-a64a-e6cda6bd846c"
      },
      "source": [
        "from google.colab import files\n",
        "uploaded = files.upload()\n",
        "\n",
        "simpsons = pd.read_csv('Simpsons_ratings.csv') #Load the data\n",
        "print(simpsons)\n",
        "plt.hist(simpsons['Rating'], bins=10, density=True) #Creating the histogram of the random sample\n",
        "                                        #We make the option density true so the bins sum to 1\n",
        "plt.title('Simpsons Ratings')"
      ],
      "execution_count": null,
      "outputs": [
        {
          "output_type": "display_data",
          "data": {
            "text/html": [
              "\n",
              "     <input type=\"file\" id=\"files-a88487d6-4553-4960-ba04-3c77c95743ae\" name=\"files[]\" multiple disabled\n",
              "        style=\"border:none\" />\n",
              "     <output id=\"result-a88487d6-4553-4960-ba04-3c77c95743ae\">\n",
              "      Upload widget is only available when the cell has been executed in the\n",
              "      current browser session. Please rerun this cell to enable.\n",
              "      </output>\n",
              "      <script src=\"/nbextensions/google.colab/files.js\"></script> "
            ],
            "text/plain": [
              "<IPython.core.display.HTML object>"
            ]
          },
          "metadata": {}
        },
        {
          "output_type": "stream",
          "name": "stdout",
          "text": [
            "Saving Simpsons_ratings.csv to Simpsons_ratings.csv\n",
            "     Season  Episode                                Title  Year  Votes  Rating\n",
            "0         1        1    Simpsons Roasting on an Open Fire  1989   6681     8.2\n",
            "1         1        2                      Bart the Genius  1990   4358     7.7\n",
            "2         1        3                      Homer's Odyssey  1990   3828     7.4\n",
            "3         1        4        There's No Disgrace Like Home  1990   3785     7.7\n",
            "4         1        5                     Bart the General  1990   4054     8.0\n",
            "..      ...      ...                                  ...   ...    ...     ...\n",
            "700      32       18                         Burger Kings  2021    323     6.9\n",
            "701      32       19  Panic on the Streets of Springfield  2021    425     6.2\n",
            "702      32       20             Mother and Child Reunion  2021    291     7.2\n",
            "703      32       21            The Man from G.R.A.M.P.A.  2021    253     6.5\n",
            "704      32       22                  The Last Barfighter  2021    301     7.7\n",
            "\n",
            "[705 rows x 6 columns]\n"
          ]
        },
        {
          "output_type": "execute_result",
          "data": {
            "text/plain": [
              "Text(0.5, 1.0, 'Simpsons Ratings')"
            ]
          },
          "metadata": {},
          "execution_count": 2
        },
        {
          "output_type": "display_data",
          "data": {
            "image/png": "[encoded data removed]",
            "text/plain": [
              "<Figure size 432x288 with 1 Axes>"
            ]
          },
          "metadata": {
            "needs_background": "light"
          }
        }
      ]
    },
    {
      "cell_type": "markdown",
      "metadata": {
        "id": "S0KJHLtIRQkx"
      },
      "source": [
        "The histogram is an empirical distribution of the data. \n",
        "\n",
        "As noted before, there seems to be several episodes with $rating\\geq 7$, which could be though about as representing a good show. \n",
        "\n",
        "Nonetheless, it can be hard to make a decision based on a graph. Particularly because we could change attibutes like the bin and obtain different results.\n",
        "\n",
        "Hence, we decided to compute an *overall* rating for the show. The most common measure to grade a show is the average or sample mean, which we compute in Python.\n",
        "\n",
        "Moreover, we compute the standard deviation to get a sense of the *dispersion* of the ratings."
      ]
    },
    {
      "cell_type": "code",
      "metadata": {
        "colab": {
          "base_uri": "https://localhost:8080/",
          "height": 35
        },
        "id": "7AihPqX8RdBk",
        "outputId": "27cb886c-cfcf-4d2d-dc2e-f0e30197df90"
      },
      "source": [
        "mean_simpsons = np.mean(simpsons['Rating'])  #Compute the sample mean\n",
        "std_simpsons = np.std(simpsons['Rating'])  #Compute the sample standard deviation\n",
        "\n",
        "display([mean_simpsons,std_simpsons])"
      ],
      "execution_count": null,
      "outputs": [
        {
          "output_type": "display_data",
          "data": {
            "text/plain": [
              "[7.197446808510636, 0.8418448200656555]"
            ]
          },
          "metadata": {}
        }
      ]
    },
    {
      "cell_type": "markdown",
      "metadata": {
        "id": "hSmfjDmtSdah"
      },
      "source": [
        "However, we noticed that the sample mean that we just computed is indeed one of *many* that could be considered. \n",
        "\n",
        "Different results are obtained depending on the sample that we select.\n"
      ]
    },
    {
      "cell_type": "code",
      "metadata": {
        "colab": {
          "base_uri": "https://localhost:8080/",
          "height": 256
        },
        "id": "gtrskcLQAyg8",
        "outputId": "daa0125a-b9ea-4f27-8109-b00f6343917d"
      },
      "source": [
        "this_sample = simpsons['Rating'].sample(n=200,replace=True)  #Generate a \"new\" subsample\n",
        "display(this_sample)   \n",
        "\n",
        "mean_sample = np.mean(this_sample)   #Computing the mean and standard deviation for this new sample\n",
        "std_sample = np.std(this_sample)\n",
        "display([mean_sample,std_sample])"
      ],
      "execution_count": null,
      "outputs": [
        {
          "output_type": "display_data",
          "data": {
            "text/plain": [
              "564    6.2\n",
              "549    7.9\n",
              "522    6.9\n",
              "260    7.2\n",
              "688    6.8\n",
              "      ... \n",
              "427    6.5\n",
              "9      7.4\n",
              "186    7.6\n",
              "177    7.9\n",
              "62     7.8\n",
              "Name: Rating, Length: 200, dtype: float64"
            ]
          },
          "metadata": {}
        },
        {
          "output_type": "display_data",
          "data": {
            "text/plain": [
              "[7.139500000000003, 0.7787745180731068]"
            ]
          },
          "metadata": {}
        }
      ]
    },
    {
      "cell_type": "markdown",
      "metadata": {
        "id": "cD1I9TMACA6g"
      },
      "source": [
        "Luckily, the Central Limit Theorem (CLT) allows us to find the distribution of the sample mean. \n",
        "\n",
        "The CLT tells us that as the sample size increases $(n\\to\\infty)$, regardless of the distribution of the data, the sample mean follows a Normal distribution given by \n",
        "$$\\bar{X}\\sim N(\\mu,\\frac{\\sigma}{\\sqrt{n}}),$$\n",
        "where $\\mu$ and $\\sigma$ are the (true/theoretical) mean and standard deviation of the data. \n",
        "\n",
        "The problem then changes to finding the mean and standard deviation of the data, and here is where the Law of Large Numbers (LLN) comes to the rescue.  \n",
        "\n",
        "The LLN states that, as the sample size increases $(n\\to\\infty)$, the sample mean approximates the true/theoretical mean; that is,\n",
        "$$\\bar{X}\\approx\\mu.$$\n",
        "\n",
        "A similar argument can be made for the standard deviation.\n",
        "\n",
        "Hence, we have got all the elements to write the distribution of the sample mean."
      ]
    },
    {
      "cell_type": "code",
      "metadata": {
        "colab": {
          "base_uri": "https://localhost:8080/",
          "height": 281
        },
        "id": "wUuT4aAzX771",
        "outputId": "1f3836b8-d103-4afa-f07c-cb3c9a9aa96a"
      },
      "source": [
        "vals = np.arange(7,7.4,0.01)  #Making a grid for the 'x' axis\n",
        "\n",
        "mean_sample_mean = mean_simpsons  #Computing the mean of the CLTs distribution\n",
        "std_sample_mean = std_simpsons/np.sqrt(705)  #Computing the standard deviatoin of the CLTs distribution\n",
        "\n",
        "nor_vals = norm.pdf(vals,loc=mean_sample_mean,scale=std_sample_mean) #Evaluating the Normal\n",
        "plt.plot(vals,nor_vals,color=\"red\",linestyle=\"--\") #Adding the theoretical density of the sample mean\n",
        "plt.title('Distribution of Simpsons Ratings Sample Mean')\n",
        "plt.axvline(mean_simpsons,color=\"black\",linestyle=\"--\")    #Adding vertical line at the mean\n",
        "plt.legend([\"Normal Distribution\", \"Sample Mean\"], loc=\"upper right\")  #Adding a legend\n",
        "plt.show()"
      ],
      "execution_count": null,
      "outputs": [
        {
          "output_type": "display_data",
          "data": {
            "image/png": "[encoded data removed]",
            "text/plain": [
              "<Figure size 432x288 with 1 Axes>"
            ]
          },
          "metadata": {
            "needs_background": "light"
          }
        }
      ]
    },
    {
      "cell_type": "markdown",
      "metadata": {
        "id": "AFf5XfaZvPPs"
      },
      "source": [
        "Knowing the distribution allows us to compute the *probability* that the sample mean takes a higher (lower) value. \n",
        "\n",
        "For example, we can evaluate the probability that the sample mean of the Simpsons ratings is 7 or greater; that is\n",
        "$$Pr(\\bar{X}\\geq 7) = 1 - Pr(\\bar{X}< 7)$$\n"
      ]
    },
    {
      "cell_type": "code",
      "metadata": {
        "colab": {
          "base_uri": "https://localhost:8080/"
        },
        "id": "HrgiTsDfJdwQ",
        "outputId": "a8fd8f44-5e0b-4d69-ceee-907ce4f0d089"
      },
      "source": [
        "1-norm.cdf(7.0,loc=mean_simpsons,scale=std_sample_mean)  #Evaluation the probability that\n",
        "                                      # the sample mean is greater or equal to 7"
      ],
      "execution_count": null,
      "outputs": [
        {
          "output_type": "execute_result",
          "data": {
            "text/plain": [
              "0.9999999997630077"
            ]
          },
          "metadata": {},
          "execution_count": 103
        }
      ]
    },
    {
      "cell_type": "markdown",
      "metadata": {
        "id": "y8IpU3GfLgL5"
      },
      "source": [
        "Which indicates that we are more than likely to compute a sample mean greater than 7 (almost) regardless of the sample that we consider. \n",
        "\n",
        "The idea is that we could use this information to decide if the Simpsons are a good show or not.\n",
        "\n",
        "Additionally, we may be interested in testing if the Simpsons is a better show than Family Guy by comparing their sample means."
      ]
    },
    {
      "cell_type": "markdown",
      "metadata": {
        "id": "Fqi-WgspN4vF"
      },
      "source": [
        "# Confidence Intervals\n",
        "\n",
        "A confidence interval is another type of estimate but, instead of being just one number, it is an interval of numbers.\n",
        "\n",
        "We construct a confidence interval by using the distribution of the parameter of interest.\n",
        "\n",
        "From the Normal distribution, we know that a good mass of the probability is around the mean or location parameter. This allows us to construct intervals that contain $Z\\%$ of the probability.\n",
        "\n",
        "In the general formulation, we construct a $(1-\\alpha)$ confidence interval by finding $Z_\\alpha$ such that\n",
        "$$[\\mu-Z_\\alpha\\sigma,\\mu+Z_\\alpha\\sigma],$$\n",
        "contains $(1-\\alpha)$ of the probability.\n",
        "\n",
        "We saw last time that \n",
        "$$[\\mu-2\\sigma,\\mu+2\\sigma],$$\n",
        "contains approximately 0.95 of the probability. Which tells us that $Z_{0.05}\\approx 2$. In fact, $Z_{0.05}=1.96$. \n",
        "\n",
        "It is more common to write the confidence interval as\n",
        "$$\\mu \\pm Z_\\alpha \\sigma = \\mu \\pm 1.96 \\sigma.$$\n",
        "\n",
        "We can use a similar derivation for whatever percentage we want to obtain.*italicized text*"
      ]
    },
    {
      "cell_type": "markdown",
      "metadata": {
        "id": "3WrBPuXI-W4x"
      },
      "source": [
        "## Known Standard Deviation\n",
        "\n",
        "In cases where we know the standard deviation, the confidence interval can be computed just as above using the Normal distribution to find $Z_\\alpha$. \n",
        "\n",
        "An example using the binomial distribution."
      ]
    },
    {
      "cell_type": "code",
      "metadata": {
        "colab": {
          "base_uri": "https://localhost:8080/",
          "height": 281
        },
        "id": "fPIe-HIC5ccR",
        "outputId": "3f00de04-8fde-4384-cf8b-ad832624793a"
      },
      "source": [
        "from scipy.stats import binom  #Importing the binomial distribution\n",
        "xbars = []   #New list to save the sample means\n",
        "N = 100     #Size of the sample\n",
        "n = 1000    #Number of samples\n",
        "\n",
        "for i in range(0,n):     \n",
        "  this_sample = binom.rvs(30,0.1,size=N)  #Generate a new B(30,0.1) sample of size N\n",
        "  xbars.append(np.mean(this_sample))  #Compute the mean for this sample\n",
        "\n",
        "plt.hist(xbars,bins=10,density=True)   #Plot the histogram\n",
        "plt.title('Distribution of sample mean')\n",
        "\n",
        "mu = 30*0.1         #True/theoretical mean\n",
        "sig = np.sqrt(30*0.1*0.9)  #True/theoretical standard deviation\n",
        "\n",
        "mean_xbars = mu  #CLT: The theoretical mean (that we know in this case)\n",
        "std_xbars = sig/np.sqrt(N) #CLT: The theoretical standard deviation (that we know), divided by square of sample size\n",
        "\n",
        "vals = np.arange(mean_xbars-1,mean_xbars+1,0.05)  #Making a new grid\n",
        "nor_vals = norm.pdf(vals,loc=mean_xbars,scale=std_xbars) #Evaluating the Normal\n",
        "\n",
        "plt.plot(vals,nor_vals,color=\"red\",linestyle=\"--\") #Adding the theoretical density\n",
        "plt.xlim(mean_xbars-1,mean_xbars+1)\n",
        "plt.show()"
      ],
      "execution_count": null,
      "outputs": [
        {
          "output_type": "display_data",
          "data": {
            "image/png": "[encoded data removed]",
            "text/plain": [
              "<Figure size 432x288 with 1 Axes>"
            ]
          },
          "metadata": {
            "needs_background": "light"
          }
        }
      ]
    },
    {
      "cell_type": "markdown",
      "metadata": {
        "id": "oLf8wl3_EkLB"
      },
      "source": [
        "The binomial follows a $N(3,\\frac{2.7}{\\sqrt{100}})$, hence a $\\alpha\\%$ confidence interval is given by \n",
        "$[3-Z_\\alpha*\\frac{2.7}{\\sqrt{100}},3+Z_\\alpha*\\frac{2.7}{\\sqrt{100}}],$\n",
        "where $Z_\\alpha$, or **critical value** comes from the Normal distribution.\n",
        "\n",
        "Hence, a 90% confidence interval is given by\n",
        "$[3-1.64*\\frac{2.7}{\\sqrt{100}},3+1.64*\\frac{2.7}{\\sqrt{100}}].$"
      ]
    },
    {
      "cell_type": "code",
      "metadata": {
        "colab": {
          "base_uri": "https://localhost:8080/",
          "height": 318
        },
        "id": "9GOmRF0JEjeQ",
        "outputId": "6f72f273-d25e-44de-ab65-5228038e4c57"
      },
      "source": [
        "lim_inf = mean_xbars-1.64*std_xbars  #Confidence Invertals lim inf\n",
        "lim_sup = mean_xbars+1.64*std_xbars\n",
        "\n",
        "display([lim_inf, lim_sup])\n",
        "\n",
        "con_int = np.arange(lim_inf,lim_sup,0.01)   #Generate grid for the CI\n",
        "\n",
        "plt.title('Distribution of sample mean')\n",
        "plt.plot(vals,nor_vals,color=\"red\",linestyle=\"--\") #Adding the theoretical density\n",
        "plt.xlim(mean_xbars-1,mean_xbars+1)\n",
        "plt.fill_between(con_int,norm.pdf(con_int,loc=mean_xbars,scale=std_xbars),alpha=0.8,color=\"black\")  #Paint the area\n",
        "plt.show()\n",
        "\n",
        "display(norm.cdf(lim_sup,loc=mean_xbars,scale=std_xbars)-norm.cdf(lim_inf,loc=mean_xbars,scale=std_xbars))  #Compute the area inside the CI"
      ],
      "execution_count": null,
      "outputs": [
        {
          "output_type": "display_data",
          "data": {
            "text/plain": [
              "[2.730520501707458, 3.269479498292542]"
            ]
          },
          "metadata": {}
        },
        {
          "output_type": "display_data",
          "data": {
            "image/png": "[encoded data removed]",
            "text/plain": [
              "<Figure size 432x288 with 1 Axes>"
            ]
          },
          "metadata": {
            "needs_background": "light"
          }
        },
        {
          "output_type": "display_data",
          "data": {
            "text/plain": [
              "0.8989948330517927"
            ]
          },
          "metadata": {}
        }
      ]
    },
    {
      "cell_type": "markdown",
      "metadata": {
        "id": "b6xqXK_zX9ai"
      },
      "source": [
        "We can compute the proportion of sample means generated above that fall inside the confidence interval."
      ]
    },
    {
      "cell_type": "code",
      "metadata": {
        "colab": {
          "base_uri": "https://localhost:8080/",
          "height": 35
        },
        "id": "OJQrgayjX8Sp",
        "outputId": "bd9eb312-a6b6-471d-d43a-cd8c2c3b1e83"
      },
      "source": [
        "count = 0   #Start the count at zero\n",
        "for ii in range(0,n):\n",
        "  count = count+1*((xbars[ii]>lim_inf) & (xbars[ii]<lim_sup)) #Add one to the count if \n",
        "                                      #the sample mean is inside the confidence interval\n",
        "\n",
        "prop_inside = count/n     #Proportion inside the CI\n",
        "display(prop_inside)"
      ],
      "execution_count": null,
      "outputs": [
        {
          "output_type": "display_data",
          "data": {
            "text/plain": [
              "0.892"
            ]
          },
          "metadata": {}
        }
      ]
    },
    {
      "cell_type": "markdown",
      "metadata": {
        "id": "cWKauC7XIcuB"
      },
      "source": [
        "## Unknown Standard Deviation\n",
        "\n",
        "In the general case, when we do not know the true/theoretical standard deviation, we have to estimate it from the data.\n",
        "\n",
        "Our estimate for the sample variance is given by\n",
        "$$s^2 = \\frac{1}{n}[(x_1-\\bar{x})^2+(x_2-\\bar{x})^2+\\cdots+(x_n-\\bar{x})^2],$$\n",
        "from where we estimate the standard deviation by $s$.\n",
        "\n",
        "Above, the LLN tells us that our estimate of the sample mean gets closer and close to the true/theoretical mean, as the sample size increases. \n",
        "\n",
        "Moreover, the CLT tells us that it follows a Normal distribution."
      ]
    },
    {
      "cell_type": "markdown",
      "metadata": {
        "id": "GFNDTpz3NqXg"
      },
      "source": [
        "### Chi-squared distribution\n",
        "\n",
        "Notice that we are then taking squares of (approximately) Normal variables, which takes us to another commonly used distributions: the chi-squared distribution, denoted by $\\chi^2$.\n",
        "\n",
        "Formally, the chi-square distribution is defined as\n",
        "> Let $Y_1,Y_2,\\cdots,Y_n\\sim N(0,1)$, then $Z=(Y_1^2+Y_2+\\cdots+Y_n^2)$ follows a chi-square distribution with $n$ degrees of freedom, denoted as $Z^\\sim \\chi^2_n$,.\n",
        "\n",
        "We can see this in Python. \n",
        "\n",
        "To generate a sample from a chi-squared distribution with one degree of freedom, we generate values from the Normal distribution and square them. We then compare the histogram from our generated sample against the theoretical pdf of the chi-squared distribution."
      ]
    },
    {
      "cell_type": "code",
      "metadata": {
        "colab": {
          "base_uri": "https://localhost:8080/",
          "height": 283
        },
        "id": "Y0Nd_DQ-IcY7",
        "outputId": "7a4cba98-a53e-4d50-d2ac-a780060ae8bc"
      },
      "source": [
        "from scipy.stats import chi2  #Importing the chi-square distribution\n",
        "\n",
        "N = 1000 #Size of the sample\n",
        "\n",
        "Y = norm.rvs(size=N,loc=0,scale=1)  #Generating a sample from the Normal\n",
        "W = Y**2  #Taking squares\n",
        "\n",
        "plt.hist(W,bins=100,density=True)  #Plotting the histogram\n",
        "\n",
        "\n",
        "vals = np.arange(0,10,0.1)  #Notice that the chi-square takes non-negative values\n",
        "chi_vals = chi2.pdf(vals,df=1)  #Evaluationg the chi2 distribution\n",
        "plt.plot(vals,chi_vals,color=\"red\",linestyle=\"--\") #Adding the theoretical density"
      ],
      "execution_count": null,
      "outputs": [
        {
          "output_type": "execute_result",
          "data": {
            "text/plain": [
              "[<matplotlib.lines.Line2D at 0x7f6640e29150>]"
            ]
          },
          "metadata": {},
          "execution_count": 9
        },
        {
          "output_type": "display_data",
          "data": {
            "image/png": "[encoded data removed]",
            "text/plain": [
              "<Figure size 432x288 with 1 Axes>"
            ]
          },
          "metadata": {
            "needs_background": "light"
          }
        }
      ]
    },
    {
      "cell_type": "markdown",
      "metadata": {
        "id": "NHTAK3DlROPM"
      },
      "source": [
        "Which shows that our sample corresponds to the chi-squared distribution with one degree of freedom.\n",
        "\n",
        "We plot several chi-squares distribution with different degrees of freedom to see the effect that it has on the shape."
      ]
    },
    {
      "cell_type": "code",
      "metadata": {
        "colab": {
          "base_uri": "https://localhost:8080/",
          "height": 281
        },
        "id": "9HDeFPLhYvCO",
        "outputId": "66dddede-121a-41a1-afc4-8fda4e7fd3b5"
      },
      "source": [
        "new_vals = list(np.arange(0,12,0.05))  #New grid\n",
        "vals_dfs = [1, 2, 5, 10, 15]    #Different degrees of freedom\n",
        "\n",
        "for i in range(0,5):\n",
        "    plt.plot(new_vals,chi2.pdf(new_vals,df=vals_dfs[i])) #A plot for each degrees of freedom value\n",
        "plt.title(\"Chi-square distribution with different degrees of freedom\")\n",
        "plt.ylim(0,0.6) #Shortening the y axis\n",
        "plt.legend([\"$\\chi^2_1$\",\"$\\chi^2_2$\",\"$\\chi^2_5$\",\"$\\chi^2_{10}$\",\"$\\chi^2_{15}$\"])  #Adding legends to identify each curve\n",
        "plt.show()"
      ],
      "execution_count": null,
      "outputs": [
        {
          "output_type": "display_data",
          "data": {
            "image/png": "[encoded data removed]",
            "text/plain": [
              "<Figure size 432x288 with 1 Axes>"
            ]
          },
          "metadata": {
            "needs_background": "light"
          }
        }
      ]
    },
    {
      "cell_type": "markdown",
      "metadata": {
        "id": "RNrPUdJpalcT"
      },
      "source": [
        "### Student's t distribution\n",
        "\n",
        "Circling back to the confidence interval when we do not know the true/theoretical standard deviation. Consider the variable given by\n",
        "$$t = \\frac{(\\bar{X}-\\mu)/(\\sigma/\\sqrt(n))}{(s/\\sqrt(n))/(\\sigma/\\sqrt(n))},$$\n",
        "where $s$ is the estimate of the standard deviation.\n",
        "\n",
        "Turns out $t$ defined like this follows the final commonly used distribution for statistical tests, the *Student's t distribution*.\n",
        "\n",
        "Formally, the t distribution is defined as\n",
        "\n",
        "\n",
        ">  Let $X\\sim N(0,1)$ and $Y\\sim\\chi^2_n$ then $Z=\\frac{X}{\\sqrt{Y/n}}$ follows a t distribution with $n$ degrees of freedom, denoted as $Z^\\sim t_n$.\n",
        "\n",
        "Wrapping up, our statistic, when we do not know the standard deviation and we need to esimate it, formally follows a t distribution. \n",
        "\n",
        "Hence, formally we should use the t distribution to compute $Z_\\alpha$ to construct the confidence interval."
      ]
    },
    {
      "cell_type": "markdown",
      "metadata": {
        "id": "JJG9RExZgnlC"
      },
      "source": [
        "Once again, we can use Python to plot the t distribution."
      ]
    },
    {
      "cell_type": "code",
      "metadata": {
        "colab": {
          "base_uri": "https://localhost:8080/",
          "height": 281
        },
        "id": "SbeayPBngmt_",
        "outputId": "fa780474-ef83-4834-83ec-9de6c3054d93"
      },
      "source": [
        "from scipy.stats import t  #Importing the t distribution\n",
        "\n",
        "N = 1000 #Size of the sample\n",
        "deg_free = 5  #Degrees of freedom\n",
        "\n",
        "X = norm.rvs(size=N)  #Generating a sample from the Normal\n",
        "Y = chi2.rvs(size=N,df=deg_free)  #Generating a sample from the chi2\n",
        "\n",
        "Z = X/np.sqrt(Y/deg_free)  #Generating the t distribution\n",
        "\n",
        "plt.hist(Z,bins=20,density=True)  #Plotting the histogram\n",
        "\n",
        "vals = np.arange(-5,5,0.1)   #New grid\n",
        "plt.plot(vals,t.pdf(vals,df=deg_free))  #Plot evaluating the t distribution directly\n",
        "plt.title(\"t distribution\")\n",
        "plt.show()"
      ],
      "execution_count": null,
      "outputs": [
        {
          "output_type": "display_data",
          "data": {
            "image/png": "[encoded data removed]",
            "text/plain": [
              "<Figure size 432x288 with 1 Axes>"
            ]
          },
          "metadata": {
            "needs_background": "light"
          }
        }
      ]
    },
    {
      "cell_type": "markdown",
      "metadata": {
        "id": "hhLTRlzdiwUX"
      },
      "source": [
        "Properties of the t distribution:\n",
        "*   Bell-shape\n",
        "*   Symmetrical\n",
        "*   Unimodal\n",
        "*   Mean is the same as the mode and the median\n",
        "*   More weight in the tails than the Normal\n",
        "*   Gets close to the Normal as the degrees of freedom increase\n"
      ]
    }
  ]
}