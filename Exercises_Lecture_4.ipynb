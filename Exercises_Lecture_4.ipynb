{
  "nbformat": 4,
  "nbformat_minor": 0,
  "metadata": {
    "colab": {
      "name": "Exercises Lecture 4.ipynb",
      "provenance": [],
      "collapsed_sections": [],
      "include_colab_link": true
    },
    "kernelspec": {
      "name": "python3",
      "display_name": "Python 3"
    },
    "language_info": {
      "name": "python"
    }
  },
  "cells": [
    {
      "cell_type": "markdown",
      "metadata": {
        "id": "view-in-github",
        "colab_type": "text"
      },
      "source": [
        "<a href=\"https://colab.research.google.com/github/everval/AQM2021/blob/main/Exercises_Lecture_4.ipynb\" target=\"_parent\"><img src=\"https://colab.research.google.com/assets/colab-badge.svg\" alt=\"Open In Colab\"/></a>"
      ]
    },
    {
      "cell_type": "markdown",
      "metadata": {
        "id": "n3peQzx8gVQc"
      },
      "source": [
        "# Example: Laptop Batteries\n",
        "\n",
        "As usual, we start by loading the Python packages that we are going to use in the analysis."
      ]
    },
    {
      "cell_type": "code",
      "metadata": {
        "id": "GP22-79G-w_u"
      },
      "source": [
        "import numpy as np #Package for numerical multidimensional tables\n",
        "import pandas as pd #Package for data frames\n",
        "import matplotlib.pyplot as plt #Package for plots and graphs\n",
        "import random as rnd #Package for random number generation\n",
        "from scipy.stats import norm #Import the Normal distribution from the scipy.stats package\n",
        "from scipy.stats import t #Import the t distribution from the scipy.stats package"
      ],
      "execution_count": null,
      "outputs": []
    },
    {
      "cell_type": "markdown",
      "metadata": {
        "id": "OsbK6zwGlxX7"
      },
      "source": [
        "A certain laptop manufacturer **wants to know the average lifetime of the batteries on their new model**.\n",
        "\n",
        "To find the lifetime of a battery, the process involves charging and decharging it thousands of times until the battery stops holding more than 50% of its charge. \n",
        "\n",
        "Thus, finding out the lifetime of a particular battery, implies that **we cannot sell that laptop to the consumer**. Ergo, the company cannot possibly tests all the batteries to find the exact lifetime of its batteries. It will involve taking major losses.\n",
        "\n",
        "Hence, determining the sample size involves some large trade-offs. \n",
        "\n",
        "It is a large company, thus they have opted to test 100 laptops to find a good estimate. \n",
        "\n",
        "Nonetheless, imagine we work on a smaller company that cannot sustain such a large loss. We are interested in analyzing the effect that a smaller sample size has on the results. \n",
        "\n",
        "Thus, we will compare the results of a statistical analysis using the complete, 100 batteries dataset against a much smaller 10 batteries dataset.\n",
        "\n",
        "The data is stored in \"LNVGY_test\"."
      ]
    },
    {
      "cell_type": "code",
      "metadata": {
        "id": "AH96l375l0Y0"
      },
      "source": [
        "from google.colab import files\n",
        "\n",
        "uploaded = files.upload()\n",
        "laptop =   #Load the data\n",
        "      #Print the data"
      ],
      "execution_count": null,
      "outputs": []
    },
    {
      "cell_type": "markdown",
      "metadata": {
        "id": "yj6f7p4Zl1oB"
      },
      "source": [
        "The dataset contains the equivalent lifetime in years that the number of cycles of charge and discharge tfor each battery tested. \n",
        "\n",
        "We can get some sense of the data by looking at an histogram."
      ]
    },
    {
      "cell_type": "code",
      "metadata": {
        "id": "3pDq59d2mWNV"
      },
      "source": [
        " #Plot the histogram\n",
        "  #Add the title \"Battery lifetime (years)\"\n",
        "plt.show()"
      ],
      "execution_count": null,
      "outputs": []
    },
    {
      "cell_type": "markdown",
      "metadata": {
        "id": "rPyvnm9Pmupk"
      },
      "source": [
        "The histogram is concentrated around 5.5. \n",
        "\n",
        "Similar to their previous models that had batteries that last 5+ years.\n",
        "\n",
        "Of course, the histogram does not tells us much about the average lifetime and the uncertainty associated to it.\n",
        "\n",
        "Hence, we compute the sample mean, and sample standard deviation as a measure of the uncertainty."
      ]
    },
    {
      "cell_type": "code",
      "metadata": {
        "id": "qCb2czd4nJgF"
      },
      "source": [
        "mean_lifetime = \n",
        "std_lifetime = \n",
        "\n",
        "display([mean_lifetime,std_lifetime])"
      ],
      "execution_count": null,
      "outputs": []
    },
    {
      "cell_type": "markdown",
      "metadata": {
        "id": "XJKUneRKDqH9"
      },
      "source": [
        "Using the CLT and LLN, we can compute the distribution of the whole dataset."
      ]
    },
    {
      "cell_type": "code",
      "metadata": {
        "id": "xDoATFcnDzfW"
      },
      "source": [
        "mean_dist_all =  #Compute the mean of the distribution of xbar\n",
        "std_dist_all =   #Compute the std of the distribution of xbar\n",
        "\n",
        "display([mean_dist_all,std_dist_all])"
      ],
      "execution_count": null,
      "outputs": []
    },
    {
      "cell_type": "markdown",
      "metadata": {
        "id": "s_c16RbKEC2k"
      },
      "source": [
        "Which allows us to obtain confidence interval for the lifetime of the batteries."
      ]
    },
    {
      "cell_type": "code",
      "metadata": {
        "id": "Pbwcs_rPEKS6"
      },
      "source": [
        "z_alpha_all =   #Percent point function: it finds the value such that \n",
        "                        #the percentage is achieved.\n",
        "display(z_alpha_all)\n",
        "\n",
        "lim_inf_all =   #Obtain the CI\n",
        "lim_sup_all = \n",
        "\n",
        "display([lim_inf_all, lim_sup_all])"
      ],
      "execution_count": null,
      "outputs": []
    },
    {
      "cell_type": "markdown",
      "metadata": {
        "id": "KDlDKinGtzsx"
      },
      "source": [
        "## Small Sample\n",
        "\n",
        "Up to this point, we have worked with the whole dataset. Now we are interested in comparing the analysis of using a smaller sample size given the high costs associated to obtain the data.\n",
        "\n",
        "Thus, we work now with a smaller sample size by selecting a subsample. "
      ]
    },
    {
      "cell_type": "code",
      "metadata": {
        "id": "kPuvYsV5upe3"
      },
      "source": [
        "rnd.seed(21)   #Random seed\n",
        "samsize = 5   #Sample size\n",
        "sample = laptop['Years'].sample(n=samsize)  #Getting the random sample"
      ],
      "execution_count": null,
      "outputs": []
    },
    {
      "cell_type": "markdown",
      "metadata": {
        "id": "-PGpum6tvqV9"
      },
      "source": [
        "The analysis can then proceed as before just adjusting for the smaller sample size. \n",
        "\n",
        "In practical terms, it will mean more uncertainty and thus bigger confidence intervals and standard deviation.\n",
        "\n",
        "Nonetheless, the analysis is as valid as with the whole dataset only at a fraction of the cost."
      ]
    },
    {
      "cell_type": "markdown",
      "metadata": {
        "id": "UqdaMl58wBIv"
      },
      "source": [
        "We compute the sample mean and standard deviation."
      ]
    },
    {
      "cell_type": "code",
      "metadata": {
        "id": "dHcIBKmUwDaO"
      },
      "source": [
        "mean_sample = #Compute the mean of the data\n",
        "std_sample =  #Compute the std of the data\n",
        "\n",
        "display([mean_sample,std_sample])"
      ],
      "execution_count": null,
      "outputs": []
    },
    {
      "cell_type": "markdown",
      "metadata": {
        "id": "PEQN_GAen433"
      },
      "source": [
        "## Central Limit Theorem and Law of Large Numbers\n",
        "\n",
        "The uncertainty regarding the sample mean can be modelled by a probability distribution. \n",
        "\n",
        "The **CLT tells us that this distribution is the Normal distribution** given by:\n",
        "$$\\bar{X}\\sim N(\\mu,\\frac{\\sigma}{\\sqrt{n}}),$$\n",
        "where $\\mu$ and $\\sigma$ are the mean and standard deviation of the data.\n",
        "\n",
        "In general, **we do not know the mean and standard deviation of the data Nonetheless, using the LLN, we can estimate them using their sample equivalents**.\n",
        "$$\\bar{X}\\approx \\mu,\\quad \\text{and}\\quad s\\approx \\sigma.$$\n",
        "\n",
        "Hence, we have got all the elements to write the distribution of the sample mean."
      ]
    },
    {
      "cell_type": "code",
      "metadata": {
        "id": "3IRJuktjxVK8"
      },
      "source": [
        "mean_dist = #Compute the mean of the distribution of xbar\n",
        "std_dist = #Compute the std of the distribution of xbar\n",
        "\n",
        "display([mean_dist,std_dist])"
      ],
      "execution_count": null,
      "outputs": []
    },
    {
      "cell_type": "markdown",
      "metadata": {
        "id": "ZseWhfYZxmj1"
      },
      "source": [
        "We can compare this distribution against the one obtained if we use all the data."
      ]
    },
    {
      "cell_type": "code",
      "metadata": {
        "id": "w-2GnQOfxlkL"
      },
      "source": [
        "vals = np.arange(4.5,5.8,0.025)\n",
        "nor_vals_all =  #Evaluating the Normal for the complete data\n",
        "nor_vals_dist =  #Evaluating the Normal for the sample\n",
        "plt.plot(vals,nor_vals_all,color=\"red\",linestyle=\"--\") #Adding the theoretical density\n",
        "plt.plot(vals,nor_vals_dist,color=\"blue\",linestyle=\"--\") #Adding the theoretical density\n",
        "plt.show()"
      ],
      "execution_count": null,
      "outputs": []
    },
    {
      "cell_type": "markdown",
      "metadata": {
        "id": "Fqi-WgspN4vF"
      },
      "source": [
        "# Confidence Intervals\n",
        "\n",
        "We construct a confidence interval by using the distribution of the parameter of interest.\n",
        "\n",
        "From the Normal distribution, we know that a good mass of the probability is around the mean or location parameter. This allows us to construct intervals that contain $Z\\%$ of the probability.\n",
        "\n",
        "In the general formulation, we construct a $(1-\\alpha)$ confidence interval by finding $Z_\\alpha$ such that\n",
        "$$[\\mu-Z_\\alpha\\sigma,\\mu+Z_\\alpha\\sigma],$$\n",
        "contains $(1-\\alpha)$ of the probability.\n",
        "\n",
        "It is more common to write the confidence interval as\n",
        "$$\\mu \\pm Z_\\alpha \\sigma.$$"
      ]
    },
    {
      "cell_type": "markdown",
      "metadata": {
        "id": "aCQK-mW9gTmd"
      },
      "source": [
        "We construct the confidence interval for the sample mean of the Simpsons sample where we do not know the standard deviation.\n",
        "\n",
        "The t distribution is symmetrical, so we need to find $Z_{\\alpha/2}$ such that $(1-\\alpha/2)$ of the distribution is above it."
      ]
    },
    {
      "cell_type": "code",
      "metadata": {
        "id": "0mIUlVJVccBN"
      },
      "source": [
        "z_alpha =  #Percent point function: it finds the value such that \n",
        "                #the percentage is achieved.\n",
        "display(z_alpha)"
      ],
      "execution_count": null,
      "outputs": []
    },
    {
      "cell_type": "markdown",
      "metadata": {
        "id": "pmaezCwMdssA"
      },
      "source": [
        "We compute the confidence interval."
      ]
    },
    {
      "cell_type": "code",
      "metadata": {
        "id": "03qOYMsBfAZF"
      },
      "source": [
        "lim_inf_sample =   #CI\n",
        "lim_sup_sample = \n",
        "\n",
        "display([lim_inf_sample, lim_sup_sample])"
      ],
      "execution_count": null,
      "outputs": []
    },
    {
      "cell_type": "markdown",
      "metadata": {
        "id": "2AyEA8LUf19U"
      },
      "source": [
        "A much larger confidence interval given that we use a much smaller dataset. \n",
        "\n",
        "Nonetheless, notice that the sample mean computed with the whole dataset is contained inside."
      ]
    },
    {
      "cell_type": "markdown",
      "metadata": {
        "id": "gk5e9tr0jqL2"
      },
      "source": [
        "Suppose we can only sell the new model if the average lifetime is more than 5 years. \n",
        "\n",
        "Our null hypothesis would be then:\n",
        "\n",
        "> $H_0: \\overline{Lifetime}\\geq 5$ \n",
        "\n",
        "against the alternative\n",
        "\n",
        "> $H_a: \\overline{Lifetime}< 5$ \n",
        "\n",
        "Notice that this is actually a **one-tailed** test. \n",
        "\n",
        "First, we construct the statistic of the test:\n",
        "$$t_0 = \\frac{\\overline{Lifetime}-5}{\\frac{s}{\\sqrt{n}}},$$\n",
        "\n",
        "where $s$ is our estimate of the standard deviation.\n"
      ]
    },
    {
      "cell_type": "code",
      "metadata": {
        "id": "lJEbAGK8oPVL"
      },
      "source": [
        "t_0 =   #Compute the tests statistic\n",
        "display(t_0)"
      ],
      "execution_count": null,
      "outputs": []
    },
    {
      "cell_type": "markdown",
      "metadata": {
        "id": "HGYakIwhmCQq"
      },
      "source": [
        "Which we compare against the critical value."
      ]
    },
    {
      "cell_type": "code",
      "metadata": {
        "id": "IXEy21VglvLU"
      },
      "source": [
        "z_alpha_1side =   #Critical value from the oercent point function\n",
        "\n",
        "display(z_alpha_1side)"
      ],
      "execution_count": null,
      "outputs": []
    },
    {
      "cell_type": "markdown",
      "metadata": {
        "id": "0O1cV4GxmWw2"
      },
      "source": [
        "Alternatively, or additionally, we can compute the **p-value** of the test."
      ]
    },
    {
      "cell_type": "code",
      "metadata": {
        "id": "ZkJR_K2fUpYs"
      },
      "source": [
        "   #Evaluating the p-value"
      ],
      "execution_count": null,
      "outputs": []
    },
    {
      "cell_type": "markdown",
      "metadata": {
        "id": "jWKyCQZSzPAr"
      },
      "source": [
        "Which tells us that with a 95% confidence, the average lifetime of the batteries in the new model is more than 5 years.\n",
        "\n",
        "We obtained this result by looking at only 10 batteries."
      ]
    },
    {
      "cell_type": "markdown",
      "metadata": {
        "id": "Nhkk4kIPIgrD"
      },
      "source": [
        "You may be interested in checking the last part of the analysis in the complete dataset."
      ]
    }
  ]
}