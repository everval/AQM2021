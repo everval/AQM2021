{
  "nbformat": 4,
  "nbformat_minor": 0,
  "metadata": {
    "colab": {
      "name": "Lecture4_after.ipynb",
      "provenance": [],
      "collapsed_sections": [],
      "toc_visible": true,
      "include_colab_link": true
    },
    "kernelspec": {
      "name": "python3",
      "display_name": "Python 3"
    },
    "language_info": {
      "name": "python"
    }
  },
  "cells": [
    {
      "cell_type": "markdown",
      "metadata": {
        "id": "view-in-github",
        "colab_type": "text"
      },
      "source": [
        "<a href=\"https://colab.research.google.com/github/everval/AQM2021/blob/main/Lecture4_after.ipynb\" target=\"_parent\"><img src=\"https://colab.research.google.com/assets/colab-badge.svg\" alt=\"Open In Colab\"/></a>"
      ]
    },
    {
      "cell_type": "code",
      "metadata": {
        "id": "zcsCWMwi4lBC"
      },
      "source": [
        "import numpy as np #Package for numerical multidimensional tables\n",
        "import pandas as pd #Package for data frames\n",
        "import matplotlib.pyplot as plt #Package for plots and graphs\n",
        "import random as rnd #Package for random number generation\n",
        "from scipy.stats import norm #Import the Normal distribution from the scipy.stats package\n",
        "from scipy.stats import t #Import the Normal distribution from the scipy.stats package"
      ],
      "execution_count": null,
      "outputs": []
    },
    {
      "cell_type": "markdown",
      "metadata": {
        "id": "i2asqBdJ9iFR"
      },
      "source": [
        "Finishing the Simpsons example from last week."
      ]
    },
    {
      "cell_type": "code",
      "metadata": {
        "colab": {
          "resources": {
            "http://localhost:8080/nbextensions/google.colab/files.js": {
              "data": "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",
              "ok": true,
              "headers": [
                [
                  "content-type",
                  "application/javascript"
                ]
              ],
              "status": 200,
              "status_text": "OK"
            }
          },
          "base_uri": "https://localhost:8080/",
          "height": 614
        },
        "id": "Lfw_ftxM4oqj",
        "outputId": "5c0ad7ad-106f-4e29-e3ac-9cdc9b7b8b97"
      },
      "source": [
        "from google.colab import files\n",
        "uploaded = files.upload()\n",
        "\n",
        "simpsons = pd.read_csv('Simpsons_ratings.csv') #Load the data\n",
        "print(simpsons)\n",
        "plt.hist(simpsons['Rating'], bins=10, density=True) #Creating the histogram of the random sample\n",
        "                                        #We make the option density true so the bins sum to 1\n",
        "plt.title('Simpsons Ratings')\n",
        "\n",
        "mean_simpsons = np.mean(simpsons['Rating'])  #Compute the sample mean\n",
        "std_simpsons = np.std(simpsons['Rating'])  #Compute the sample standard deviation\n",
        "\n",
        "display([mean_simpsons,std_simpsons])"
      ],
      "execution_count": null,
      "outputs": [
        {
          "output_type": "display_data",
          "data": {
            "text/html": [
              "\n",
              "     <input type=\"file\" id=\"files-d36bfc82-d950-4bf6-b5c1-2557be1e7541\" name=\"files[]\" multiple disabled\n",
              "        style=\"border:none\" />\n",
              "     <output id=\"result-d36bfc82-d950-4bf6-b5c1-2557be1e7541\">\n",
              "      Upload widget is only available when the cell has been executed in the\n",
              "      current browser session. Please rerun this cell to enable.\n",
              "      </output>\n",
              "      <script src=\"/nbextensions/google.colab/files.js\"></script> "
            ],
            "text/plain": [
              "<IPython.core.display.HTML object>"
            ]
          },
          "metadata": {}
        },
        {
          "output_type": "stream",
          "name": "stdout",
          "text": [
            "Saving Simpsons_ratings.csv to Simpsons_ratings.csv\n",
            "     Season  Episode                                Title  Year  Votes  Rating\n",
            "0         1        1    Simpsons Roasting on an Open Fire  1989   6681     8.2\n",
            "1         1        2                      Bart the Genius  1990   4358     7.7\n",
            "2         1        3                      Homer's Odyssey  1990   3828     7.4\n",
            "3         1        4        There's No Disgrace Like Home  1990   3785     7.7\n",
            "4         1        5                     Bart the General  1990   4054     8.0\n",
            "..      ...      ...                                  ...   ...    ...     ...\n",
            "700      32       18                         Burger Kings  2021    323     6.9\n",
            "701      32       19  Panic on the Streets of Springfield  2021    425     6.2\n",
            "702      32       20             Mother and Child Reunion  2021    291     7.2\n",
            "703      32       21            The Man from G.R.A.M.P.A.  2021    253     6.5\n",
            "704      32       22                  The Last Barfighter  2021    301     7.7\n",
            "\n",
            "[705 rows x 6 columns]\n"
          ]
        },
        {
          "output_type": "display_data",
          "data": {
            "text/plain": [
              "[7.197446808510636, 0.8418448200656555]"
            ]
          },
          "metadata": {}
        },
        {
          "output_type": "display_data",
          "data": {
            "image/png": "[encoded data removed]",
            "text/plain": [
              "<Figure size 432x288 with 1 Axes>"
            ]
          },
          "metadata": {
            "needs_background": "light"
          }
        }
      ]
    },
    {
      "cell_type": "markdown",
      "metadata": {
        "id": "gP5zjbiI430A"
      },
      "source": [
        "We construct the confidence interval for the sample mean of the Simpsons where we do not know the standard deviation.\n",
        "\n",
        "The t distribution is symmetrical, so we need to find $Z_{\\alpha/2}$ such that $(1-\\alpha/2)$ of the distribution is above it. Or, given symmetry, that $(1-\\alpha/2)$ of the distribution is below it."
      ]
    },
    {
      "cell_type": "code",
      "metadata": {
        "colab": {
          "base_uri": "https://localhost:8080/",
          "height": 54
        },
        "id": "0mIUlVJVccBN",
        "outputId": "08b539c2-3e1d-4eab-cd76-99532384aeb4"
      },
      "source": [
        "n1 = simpsons.shape[0] #Finding the number of ratings or sample size\n",
        "display(n1)  \n",
        "\n",
        "z_alpha = t.ppf(0.975,df=n1)  #Percent point function: it finds the value such that \n",
        "                #the percentage is achieved.\n",
        "display(z_alpha)"
      ],
      "execution_count": null,
      "outputs": [
        {
          "output_type": "display_data",
          "data": {
            "text/plain": [
              "705"
            ]
          },
          "metadata": {}
        },
        {
          "output_type": "display_data",
          "data": {
            "text/plain": [
              "1.9633345943574534"
            ]
          },
          "metadata": {}
        }
      ]
    },
    {
      "cell_type": "markdown",
      "metadata": {
        "id": "_B7n1Ooo99xQ"
      },
      "source": [
        "The critical value, $Z_{\\alpha/2}$, depends on the degrees of freedom."
      ]
    },
    {
      "cell_type": "code",
      "metadata": {
        "colab": {
          "base_uri": "https://localhost:8080/",
          "height": 299
        },
        "id": "5uOe_NbH-JAZ",
        "outputId": "ecb95d82-f71a-40ab-c8f1-48f80a87d391"
      },
      "source": [
        "vals = np.arange(-6,6,0.01)   #Generate grid for the CI\n",
        "deg_free = n1\n",
        "\n",
        "plt.title('t Distribution')\n",
        "plt.plot(vals,t.pdf(vals,df=deg_free),color=\"red\",linestyle=\"--\") #Adding the theoretical density\n",
        "\n",
        "crit_val = t.ppf(0.975,df=deg_free)\n",
        "\n",
        "display(crit_val)\n",
        "\n",
        "crit_region = np.arange(crit_val,6,0.01)\n",
        "plt.fill_between(crit_region,t.pdf(crit_region,df=deg_free),alpha=0.8,color=\"black\")  #Paint the area\n",
        "plt.show()"
      ],
      "execution_count": null,
      "outputs": [
        {
          "output_type": "display_data",
          "data": {
            "text/plain": [
              "1.9633345943574534"
            ]
          },
          "metadata": {}
        },
        {
          "output_type": "display_data",
          "data": {
            "image/png": "[encoded data removed]",
            "text/plain": [
              "<Figure size 432x288 with 1 Axes>"
            ]
          },
          "metadata": {
            "needs_background": "light"
          }
        }
      ]
    },
    {
      "cell_type": "markdown",
      "metadata": {
        "id": "skVwXIRNel_X"
      },
      "source": [
        "For such a *large* sample size, $Z_{\\alpha/2}$ is almost the same value for the t distribution than for the Normal."
      ]
    },
    {
      "cell_type": "code",
      "metadata": {
        "colab": {
          "base_uri": "https://localhost:8080/"
        },
        "id": "7hitNodxe3FD",
        "outputId": "849d9e1b-5e20-4add-c968-ff36ed3c404d"
      },
      "source": [
        "norm.ppf(0.975)  #Percent point function for the normal distribution"
      ],
      "execution_count": null,
      "outputs": [
        {
          "output_type": "execute_result",
          "data": {
            "text/plain": [
              "1.959963984540054"
            ]
          },
          "metadata": {},
          "execution_count": 7
        }
      ]
    },
    {
      "cell_type": "markdown",
      "metadata": {
        "id": "pmaezCwMdssA"
      },
      "source": [
        "We compute the confidence interval."
      ]
    },
    {
      "cell_type": "code",
      "metadata": {
        "colab": {
          "base_uri": "https://localhost:8080/",
          "height": 54
        },
        "id": "03qOYMsBfAZF",
        "outputId": "de86a310-7596-4e63-dc6d-6841c741d2be"
      },
      "source": [
        "mean_sample_simpsons = mean_simpsons\n",
        "std_sample_simpsons = std_simpsons/np.sqrt(705)   \n",
        "\n",
        "display([mean_sample_simpsons,std_sample_simpsons])\n",
        "\n",
        "lim_inf_simpsons = mean_sample_simpsons-z_alpha*std_sample_simpsons   #CI\n",
        "lim_sup_simpsons = mean_sample_simpsons+z_alpha*std_sample_simpsons\n",
        "\n",
        "display([lim_inf_simpsons, lim_sup_simpsons])"
      ],
      "execution_count": null,
      "outputs": [
        {
          "output_type": "display_data",
          "data": {
            "text/plain": [
              "[7.197446808510636, 0.03170571018377085]"
            ]
          },
          "metadata": {}
        },
        {
          "output_type": "display_data",
          "data": {
            "text/plain": [
              "[7.135197890868167, 7.2596957261531045]"
            ]
          },
          "metadata": {}
        }
      ]
    },
    {
      "cell_type": "markdown",
      "metadata": {
        "id": "2AyEA8LUf19U"
      },
      "source": [
        "Which shows that for 95% of the samples that we *randomly* select, the sample mean is going to be between 7.13 and 7.26."
      ]
    },
    {
      "cell_type": "markdown",
      "metadata": {
        "id": "n3peQzx8gVQc"
      },
      "source": [
        "# Hypothesis Tests "
      ]
    },
    {
      "cell_type": "markdown",
      "metadata": {
        "id": "T1M_A8iw9OtE"
      },
      "source": [
        "Steps to conduct a hypothesis tests\n",
        "\n",
        "*   Set up the null and alternative hypothesis. \n",
        "\n",
        "*   Decide the level of significance required for this particular case and determine the critical value.\n",
        "\n",
        "*   Take a sample(s) and calculate the relevant parameters.\n",
        "\n",
        "*   Compare the calculated test statistic and the critical value. There are now only two situations:\n",
        "\n",
        "    a. The test statistic is in the tail: Cannot Accept the null\n",
        "\n",
        "    b. The test statistic is not in the tail: Cannot Reject the null\n",
        "\n",
        "*   Reach a conclusion. "
      ]
    },
    {
      "cell_type": "markdown",
      "metadata": {
        "id": "YHuc9gABjE3w"
      },
      "source": [
        "# Hypothesis Testing with One Sample\n",
        "\n",
        "On the previous lectures, without indicating it, we have taken most of the steps in a hypothesis test for our Simpsons data.\n",
        "\n",
        "The only thing that we forgot was to **formally** write our null hypothesis. \n",
        "\n",
        "This implies that we should *quantify* what is a good show. That means, we should decide on a rating such that if the Simpsons are above that, we call it a good show.\n",
        "\n",
        "Of course, the result of the test could vary depending on the number we settle on."
      ]
    },
    {
      "cell_type": "markdown",
      "metadata": {
        "id": "gk5e9tr0jqL2"
      },
      "source": [
        "Suppose we call it a good show if it gets a rating of 7.5 or above. Our null hypothesis would be then:\n",
        "\n",
        "> $H_0: \\overline{SimpsonsRatings}\\geq 7.5$ \n",
        "\n",
        "against the alternative\n",
        "\n",
        "> $H_a: \\overline{SimpsonsRatings}< 7.5$ \n",
        "\n",
        "Notice that this is a **one-tailed** test. \n",
        "\n",
        "First, we construct the statistic of the test:\n",
        "$$t_0 = \\frac{\\overline{SimpsonsRatings}-7.5}{\\frac{s}{\\sqrt{n}}},$$\n",
        "\n",
        "where $s$ is our estimate of the standard deviation.\n"
      ]
    },
    {
      "cell_type": "code",
      "metadata": {
        "colab": {
          "base_uri": "https://localhost:8080/",
          "height": 35
        },
        "id": "lJEbAGK8oPVL",
        "outputId": "9c62b854-c1fb-44b0-975b-82b5f256aacb"
      },
      "source": [
        "t_0 = (mean_simpsons-7.5)/(std_simpsons/np.sqrt(n1))  #Compute the tests statistic\n",
        "display(t_0)"
      ],
      "execution_count": null,
      "outputs": [
        {
          "output_type": "display_data",
          "data": {
            "text/plain": [
              "-9.542545798082513"
            ]
          },
          "metadata": {}
        }
      ]
    },
    {
      "cell_type": "markdown",
      "metadata": {
        "id": "HGYakIwhmCQq"
      },
      "source": [
        "Which we compare against the critical value and hence we reject the null."
      ]
    },
    {
      "cell_type": "code",
      "metadata": {
        "colab": {
          "base_uri": "https://localhost:8080/",
          "height": 35
        },
        "id": "IXEy21VglvLU",
        "outputId": "02eb4368-300c-40b6-def5-e719f9339e7d"
      },
      "source": [
        "z_alpha_1side = t.ppf(0.05,df=n1)  #Critical value from the percent point function\n",
        "\n",
        "display(z_alpha_1side)"
      ],
      "execution_count": null,
      "outputs": [
        {
          "output_type": "display_data",
          "data": {
            "text/plain": [
              "-1.6470178618435276"
            ]
          },
          "metadata": {}
        }
      ]
    },
    {
      "cell_type": "markdown",
      "metadata": {
        "id": "0O1cV4GxmWw2"
      },
      "source": [
        "Alternatively, or additionally, we can compute the **p-value** of the test by computing the probability of observing the value in the sample under the assumption that the rating is 7.5"
      ]
    },
    {
      "cell_type": "code",
      "metadata": {
        "colab": {
          "base_uri": "https://localhost:8080/"
        },
        "id": "ZkJR_K2fUpYs",
        "outputId": "c2d36b7e-de12-4427-aed0-ee79fb275418"
      },
      "source": [
        "t.cdf(t_0,df = n1)   #Evaluating the p-value"
      ],
      "execution_count": null,
      "outputs": [
        {
          "output_type": "execute_result",
          "data": {
            "text/plain": [
              "1.1119145866373148e-20"
            ]
          },
          "metadata": {},
          "execution_count": 12
        }
      ]
    },
    {
      "cell_type": "markdown",
      "metadata": {
        "id": "a_9PpqJAj7Af"
      },
      "source": [
        "# Type I and Type II Errors\n",
        "\n",
        "Given that we are dealing with probabilities and uncertain outcomes, when we perform a hypothesis tests, there are four possible outcomes. \n",
        "\n",
        "They are shown in the table below:"
      ]
    },
    {
      "cell_type": "markdown",
      "metadata": {
        "id": "YJlTR-_L7ZcY"
      },
      "source": [
        "![table_errors_hyptests.jpg](data:image/jpeg;base64,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)"
      ]
    },
    {
      "cell_type": "markdown",
      "metadata": {
        "id": "AZoLpbek8m2M"
      },
      "source": [
        "With real data, we can never know if we are commiting one of the errors. \n",
        "\n",
        "We can use theoretical or simulated data to illustrate the outcomes.\n",
        "\n",
        "In the coin game, we can compute the distribution of the sample mean under the assumption of a fair coin and an unfair coin.\n",
        "\n",
        "Doing so, allows us to evaluate the probability of commiting errors type I or II for the hypothesis test:\n",
        "\n",
        "\n",
        "\n",
        "> $H_0$: The coin is fair; that is $p=0.5$\n",
        "\n",
        "against the alternative\n",
        "\n",
        "> $H_a$: It is an unfair coin; that is $p\\neq0.5$\n",
        "\n"
      ]
    },
    {
      "cell_type": "markdown",
      "metadata": {
        "id": "t-Gs2U3MbIgM"
      },
      "source": [
        "Frotm the CLT, assuming we play the game 100 times, we can obtain the distribution of the sample mean under the null.\n",
        "\n",
        "$$\\bar{X}\\sim N(0.5,\\frac{\\sqrt{0.25}}{\\sqrt{100}})$$\n",
        "\n",
        "And we compare against the distribution of an unfair coin where $p=0.52$.\n",
        "\n",
        "$$\\bar{X}\\sim N(0.52,\\frac{\\sqrt{0.52*0.48}}{\\sqrt{100}})$$"
      ]
    },
    {
      "cell_type": "code",
      "metadata": {
        "colab": {
          "base_uri": "https://localhost:8080/",
          "height": 265
        },
        "id": "gmjtQGPmNtdW",
        "outputId": "505cd1e1-3cef-4f58-cd7f-2fd62fb6d05e"
      },
      "source": [
        "p_unfair = 0.52\n",
        "\n",
        "mean_fair = 0.5\n",
        "std_fair = np.sqrt(0.25)/np.sqrt(100)\n",
        "\n",
        "mean_unfair = p_unfair\n",
        "std_unfair = np.sqrt(p_unfair*(1-p_unfair))/np.sqrt(100)\n",
        "\n",
        "vals = np.arange(0.3,0.7,0.005)  #Making a new grid\n",
        "\n",
        "nor_vals = norm.pdf(vals,loc=mean_fair,scale=std_fair) #Evaluating the Normal\n",
        "nor_vals_unfair = norm.pdf(vals,loc=mean_unfair,scale=std_unfair) #Evaluating the Normal\n",
        "\n",
        "plt.plot(vals,nor_vals,color=\"blue\",linestyle=\"--\") #Adding the theoretical density\n",
        "plt.plot(vals,nor_vals_unfair,color=\"red\",linestyle=\"--\") #Adding the theoretical density\n",
        "plt.show()"
      ],
      "execution_count": null,
      "outputs": [
        {
          "output_type": "display_data",
          "data": {
            "image/png": "[encoded data removed]",
            "text/plain": [
              "<Figure size 432x288 with 1 Axes>"
            ]
          },
          "metadata": {
            "needs_background": "light"
          }
        }
      ]
    },
    {
      "cell_type": "markdown",
      "metadata": {
        "id": "V9UylhdARB5C"
      },
      "source": [
        "We can compute the probabilities of observing a particular outcome under the null and the alternative.\n",
        "\n",
        "Error Type I"
      ]
    },
    {
      "cell_type": "code",
      "metadata": {
        "colab": {
          "base_uri": "https://localhost:8080/",
          "height": 302
        },
        "id": "IP0eGMniQ7cI",
        "outputId": "92dd0f3c-ab15-48dc-cba6-1b3ccad33d28"
      },
      "source": [
        "plt.plot(vals,nor_vals,color=\"blue\",linestyle=\"--\") #Adding the theoretical density\n",
        "plt.plot(vals,nor_vals_unfair,color=\"red\",linestyle=\"--\") #Adding the theoretical density\n",
        "plt.axvline(0.526,color=\"black\")\n",
        "plt.show()\n",
        "\n",
        "display(1-norm.cdf(0.526,loc=mean_fair,scale=std_fair))\n",
        "display(1-norm.cdf(0.526,loc=mean_unfair,scale=std_unfair))"
      ],
      "execution_count": null,
      "outputs": [
        {
          "output_type": "display_data",
          "data": {
            "image/png": "[encoded data removed]",
            "text/plain": [
              "<Figure size 432x288 with 1 Axes>"
            ]
          },
          "metadata": {
            "needs_background": "light"
          }
        },
        {
          "output_type": "display_data",
          "data": {
            "text/plain": [
              "0.3015317875469661"
            ]
          },
          "metadata": {}
        },
        {
          "output_type": "display_data",
          "data": {
            "text/plain": [
              "0.45220350480932126"
            ]
          },
          "metadata": {}
        }
      ]
    },
    {
      "cell_type": "markdown",
      "metadata": {
        "id": "XC7jZRzwcwUu"
      },
      "source": [
        "Error Type II"
      ]
    },
    {
      "cell_type": "code",
      "metadata": {
        "colab": {
          "base_uri": "https://localhost:8080/",
          "height": 302
        },
        "id": "-QjPN6ObdFWU",
        "outputId": "5b43b512-e3b9-4c61-b924-9ac65c7781d2"
      },
      "source": [
        "plt.plot(vals,nor_vals,color=\"blue\",linestyle=\"--\") #Adding the theoretical density\n",
        "plt.plot(vals,nor_vals_unfair,color=\"red\",linestyle=\"--\") #Adding the theoretical density\n",
        "plt.axvline(0.48,color=\"black\")\n",
        "plt.show()\n",
        "\n",
        "display(norm.cdf(0.48,loc=mean_fair,scale=std_fair))\n",
        "display(norm.cdf(0.48,loc=mean_unfair,scale=std_unfair))"
      ],
      "execution_count": null,
      "outputs": [
        {
          "output_type": "display_data",
          "data": {
            "image/png": "[encoded data removed]",
            "text/plain": [
              "<Figure size 432x288 with 1 Axes>"
            ]
          },
          "metadata": {
            "needs_background": "light"
          }
        },
        {
          "output_type": "display_data",
          "data": {
            "text/plain": [
              "0.3445782583896757"
            ]
          },
          "metadata": {}
        },
        {
          "output_type": "display_data",
          "data": {
            "text/plain": [
              "0.2116698207912216"
            ]
          },
          "metadata": {}
        }
      ]
    },
    {
      "cell_type": "markdown",
      "metadata": {
        "id": "SY7R5h0JgzO9"
      },
      "source": [
        "# Hypothesis Testing with Two Samples\n",
        "\n",
        "There are scenarios where we are interested in testing whether the mean of one group is different than another. Examples are the effect of a particular treatment or vaccine, better outcomes for students preparing for the exam, etc.\n",
        "\n",
        "Let $\\mu_1$ be the mean of the first group and $\\mu_2$ be the mean of the second group. We are interested in testing hypothesis of the form:\n",
        "\n",
        "\n",
        "> $H_0$: Equal means; $\\mu_1=\\mu_2$\n",
        "\n",
        "against the alternative\n",
        "\n",
        "> $H_a$: Different means; $\\mu_1\\neq\\mu_2$"
      ]
    },
    {
      "cell_type": "markdown",
      "metadata": {
        "id": "uAQH4SYLhuxH"
      },
      "source": [
        "As before, we do not know the true/theoretical means, but we use a sample to estimate them. The test would thus look at the difference between $\\bar{X}_1-\\bar{X}_2$.\n",
        "\n",
        "Given that we are once again dealing with sample means, the CLT applies for both samples. \n",
        "\n",
        "Hence, we know that \n",
        "$$\\bar{X}_1\\sim N(\\mu_1,\\frac{\\sigma_1}{\\sqrt{n_1}}),$$\n",
        "\n",
        "and\n",
        "\n",
        "$$\\bar{X}_2\\sim N(\\mu_2,\\frac{\\sigma_2}{\\sqrt{n_2}}),$$\n",
        "\n",
        "where $n_1$ and $n_2$ are the sample sizes for group 1 and 2, respectively.\n",
        "\n",
        "For the test we use the property that sum (or differences) of Normal variables are again Normal.\n",
        "\n",
        "As before, if we know the true standard deviations, the statistic follows a Normal distribution.\n",
        "\n",
        "If, on the more general case, we estimate the standard deviations using the sample, the test statistic follows a t-distribution:\n",
        "$$t_0 = \\frac{\\bar{X_1}-\\bar{X_2}}{\\sqrt{\\frac{s_1^2}{n_1}+\\frac{s_2^2}{n_2}}},$$\n",
        "with degrees of freedom given by:\n",
        "$$df = \\frac{(\\frac{s_1^2}{n_1}+\\frac{s_2^2}{n_2})^2}{\\frac{1}{n_1-1}(\\frac{s_1^2}{n_1})^2+\\frac{1}{n_2-1}(\\frac{s_2^2}{n_2})^2}.$$"
      ]
    },
    {
      "cell_type": "markdown",
      "metadata": {
        "id": "VJQP12LinS2T"
      },
      "source": [
        "We can finally test the hypothesis on whether Simpsons' ratings are different than Family Guy's ratings. \n",
        "\n",
        "We load Family Guy's data and compute the mean and standard deviation of the sample mean."
      ]
    },
    {
      "cell_type": "code",
      "metadata": {
        "colab": {
          "resources": {
            "http://localhost:8080/nbextensions/google.colab/files.js": {
              "data": "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",
              "ok": true,
              "headers": [
                [
                  "content-type",
                  "application/javascript"
                ]
              ],
              "status": 200,
              "status_text": "OK"
            }
          },
          "base_uri": "https://localhost:8080/",
          "height": 350
        },
        "id": "3HNt64Z4pt_t",
        "outputId": "610716c1-0819-4ac8-94e1-31b18d811475"
      },
      "source": [
        "from google.colab import files\n",
        "uploaded = files.upload()\n",
        "\n",
        "fm = pd.read_csv('FamilyGuy_ratings.csv') #Load the data\n",
        "print(fm)\n",
        "\n",
        "mean_fm = np.mean(fm['Rating'])  #Compute the sample mean\n",
        "std_fm = np.std(fm['Rating'])  #Compute the sample standard deviation\n",
        "n2 = fm.shape[0]\n",
        "\n",
        "mean_sample_fm = mean_fm\n",
        "std_sample_fm = std_fm/np.sqrt(n2)   \n",
        "\n",
        "display([mean_sample_fm,std_sample_fm])"
      ],
      "execution_count": null,
      "outputs": [
        {
          "output_type": "display_data",
          "data": {
            "text/html": [
              "\n",
              "     <input type=\"file\" id=\"files-1dfa7261-ee85-4c4a-b610-c892a0faedcd\" name=\"files[]\" multiple disabled\n",
              "        style=\"border:none\" />\n",
              "     <output id=\"result-1dfa7261-ee85-4c4a-b610-c892a0faedcd\">\n",
              "      Upload widget is only available when the cell has been executed in the\n",
              "      current browser session. Please rerun this cell to enable.\n",
              "      </output>\n",
              "      <script src=\"/nbextensions/google.colab/files.js\"></script> "
            ],
            "text/plain": [
              "<IPython.core.display.HTML object>"
            ]
          },
          "metadata": {}
        },
        {
          "output_type": "stream",
          "name": "stdout",
          "text": [
            "Saving FamilyGuy_ratings.csv to FamilyGuy_ratings.csv\n",
            "     Season  Episode                        Title   Year  Votes  Rating\n",
            "0         1        1            Death Has a Shadow  1999   3058     7.8\n",
            "1         1        2      I Never Met the Dead Man  1999   2288     7.6\n",
            "2         1        3      Chitty Chitty Death Bang  1999   2180     7.7\n",
            "3         1        4              Mind Over Murder  1999   2066     7.5\n",
            "4         1        5         A Hero Sits Next Door  1999   2012     7.5\n",
            "..      ...      ...                           ...   ...    ...     ...\n",
            "364      19       16              Who's Brian Now?  2021    357     6.9\n",
            "365      19       17             Young Parent Trap  2021    372     7.3\n",
            "366      19       18           Meg Goes to College  2021    329     6.9\n",
            "367      19       19                    Family Cat  2021    358     7.3\n",
            "368      19       20  Tales of Former Sports Glory  2021    375     6.3\n",
            "\n",
            "[369 rows x 6 columns]\n"
          ]
        },
        {
          "output_type": "display_data",
          "data": {
            "text/plain": [
              "[7.171815718157177, 0.03298080528800113]"
            ]
          },
          "metadata": {}
        }
      ]
    },
    {
      "cell_type": "markdown",
      "metadata": {
        "id": "T7Tlv9sLrFBY"
      },
      "source": [
        "We construct the statistic for the test."
      ]
    },
    {
      "cell_type": "code",
      "metadata": {
        "colab": {
          "base_uri": "https://localhost:8080/",
          "height": 35
        },
        "id": "EQnnKJCzrET8",
        "outputId": "f14c720a-ec5c-4935-98ab-f58199ee2663"
      },
      "source": [
        "t_diff = ( mean_sample_simpsons-mean_sample_fm ) /  np.sqrt(std_sample_simpsons**2+std_sample_fm**2)\n",
        "display(t_diff)"
      ],
      "execution_count": null,
      "outputs": [
        {
          "output_type": "display_data",
          "data": {
            "text/plain": [
              "0.5602527074044601"
            ]
          },
          "metadata": {}
        }
      ]
    },
    {
      "cell_type": "markdown",
      "metadata": {
        "id": "vXl64xDlr2Vq"
      },
      "source": [
        "Obtaining the degrees of freedom."
      ]
    },
    {
      "cell_type": "code",
      "metadata": {
        "colab": {
          "base_uri": "https://localhost:8080/",
          "height": 35
        },
        "id": "qTieyZCdr1g4",
        "outputId": "bc4955c1-c0c9-4d4e-cf99-d7bb19e360d6"
      },
      "source": [
        "deg_free_diff_num = (std_sample_simpsons**2+std_sample_fm**2)**2\n",
        "deg_free_diff_den = (1/(n1-1))*(std_sample_simpsons/n1)**2 + (1/(n2-1))*(std_sample_fm/n2)**2\n",
        "\n",
        "deg_free_diff = deg_free_diff_num/deg_free_diff_den\n",
        "display(deg_free_diff)"
      ],
      "execution_count": null,
      "outputs": [
        {
          "output_type": "display_data",
          "data": {
            "text/plain": [
              "178210.12600986005"
            ]
          },
          "metadata": {}
        }
      ]
    },
    {
      "cell_type": "markdown",
      "metadata": {
        "id": "ba7SM5cltL_-"
      },
      "source": [
        "And the critical value for the test."
      ]
    },
    {
      "cell_type": "code",
      "metadata": {
        "colab": {
          "base_uri": "https://localhost:8080/"
        },
        "id": "idnbsE0utNlL",
        "outputId": "aac9b40a-e3a2-4881-d146-d1d15f0efc2e"
      },
      "source": [
        "t.ppf(0.025,df=deg_free_diff)"
      ],
      "execution_count": null,
      "outputs": [
        {
          "output_type": "execute_result",
          "data": {
            "text/plain": [
              "-1.959977296281208"
            ]
          },
          "metadata": {},
          "execution_count": 23
        }
      ]
    },
    {
      "cell_type": "markdown",
      "metadata": {
        "id": "DCWLtB3qtbjp"
      },
      "source": [
        "Which tells us that we cannot reject the null of equal ratings.\n",
        "\n",
        "Alternatively, we can compute the p-value."
      ]
    },
    {
      "cell_type": "code",
      "metadata": {
        "colab": {
          "base_uri": "https://localhost:8080/"
        },
        "id": "cScV7hWftj_9",
        "outputId": "ddb4cbb9-b4fd-4acb-fc05-0615873d7d5e"
      },
      "source": [
        "(1-t.cdf(t_diff,df = deg_free_diff))*2"
      ],
      "execution_count": null,
      "outputs": [
        {
          "output_type": "execute_result",
          "data": {
            "text/plain": [
              "0.575307784557455"
            ]
          },
          "metadata": {},
          "execution_count": 24
        }
      ]
    },
    {
      "cell_type": "markdown",
      "metadata": {
        "id": "dymlel7dfkoX"
      },
      "source": [
        "Notice that this is a two-sided test. Thus, we look at both tails of the distribution to reject."
      ]
    }
  ]
}