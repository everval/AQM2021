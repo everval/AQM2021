{
  "nbformat": 4,
  "nbformat_minor": 0,
  "metadata": {
    "colab": {
      "name": "Exercises Lecture 4_after.ipynb",
      "provenance": [],
      "collapsed_sections": [],
      "include_colab_link": true
    },
    "kernelspec": {
      "name": "python3",
      "display_name": "Python 3"
    },
    "language_info": {
      "name": "python"
    }
  },
  "cells": [
    {
      "cell_type": "markdown",
      "metadata": {
        "id": "view-in-github",
        "colab_type": "text"
      },
      "source": [
        "<a href=\"https://colab.research.google.com/github/everval/AQM2021/blob/main/Exercises_Lecture_4_after.ipynb\" target=\"_parent\"><img src=\"https://colab.research.google.com/assets/colab-badge.svg\" alt=\"Open In Colab\"/></a>"
      ]
    },
    {
      "cell_type": "markdown",
      "metadata": {
        "id": "n3peQzx8gVQc"
      },
      "source": [
        "# Example: Laptop Batteries\n",
        "\n",
        "As usual, we start by loading the Python packages that we are going to use in the analysis."
      ]
    },
    {
      "cell_type": "code",
      "metadata": {
        "id": "GP22-79G-w_u"
      },
      "source": [
        "import numpy as np #Package for numerical multidimensional tables\n",
        "import pandas as pd #Package for data frames\n",
        "import matplotlib.pyplot as plt #Package for plots and graphs\n",
        "import random as rnd #Package for random number generation\n",
        "from scipy.stats import norm #Import the Normal distribution from the scipy.stats package\n",
        "from scipy.stats import t #Import the t distribution from the scipy.stats package"
      ],
      "execution_count": 1,
      "outputs": []
    },
    {
      "cell_type": "markdown",
      "metadata": {
        "id": "OsbK6zwGlxX7"
      },
      "source": [
        "A certain laptop manufacturer **wants to know the average lifetime of the batteries on their new model**.\n",
        "\n",
        "To find the lifetime of a battery, the process involves charging and decharging it thousands of times until the battery stops holding more than 50% of its charge. \n",
        "\n",
        "Thus, finding out the lifetime of a particular battery, implies that **we cannot sell that laptop to the consumer**. Ergo, the company cannot possibly tests all the batteries to find the exact lifetime of its batteries. It will involve taking major losses.\n",
        "\n",
        "Hence, determining the sample size involves some large trade-offs. \n",
        "\n",
        "It is a large company, thus they have opted to test 100 laptops to find a good estimate. \n",
        "\n",
        "Nonetheless, imagine we work on a smaller company that cannot sustain such a large loss. We are interested in analyzing the effect that a smaller sample size has on the results. \n",
        "\n",
        "Thus, we will compare the results of a statistical analysis using the complete, 100 batteries dataset against a much smaller 10 batteries dataset.\n",
        "\n",
        "The data is stored in \"LNVGY_test\"."
      ]
    },
    {
      "cell_type": "code",
      "metadata": {
        "id": "AH96l375l0Y0",
        "colab": {
          "resources": {
            "http://localhost:8080/nbextensions/google.colab/files.js": {
              "data": "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",
              "ok": true,
              "headers": [
                [
                  "content-type",
                  "application/javascript"
                ]
              ],
              "status": 200,
              "status_text": "OK"
            }
          },
          "base_uri": "https://localhost:8080/",
          "height": 332
        },
        "outputId": "ef51a4d0-477e-40d6-eaeb-c70c5c3ef177"
      },
      "source": [
        "from google.colab import files\n",
        "\n",
        "uploaded = files.upload()\n",
        "laptop = pd.read_csv('LNVGY_test.csv')  #Load the data\n",
        "print(laptop)       #Print the data"
      ],
      "execution_count": 2,
      "outputs": [
        {
          "output_type": "display_data",
          "data": {
            "text/html": [
              "\n",
              "     <input type=\"file\" id=\"files-ff3364df-29c6-4520-8998-68a8352c09dc\" name=\"files[]\" multiple disabled\n",
              "        style=\"border:none\" />\n",
              "     <output id=\"result-ff3364df-29c6-4520-8998-68a8352c09dc\">\n",
              "      Upload widget is only available when the cell has been executed in the\n",
              "      current browser session. Please rerun this cell to enable.\n",
              "      </output>\n",
              "      <script src=\"/nbextensions/google.colab/files.js\"></script> "
            ],
            "text/plain": [
              "<IPython.core.display.HTML object>"
            ]
          },
          "metadata": {}
        },
        {
          "output_type": "stream",
          "name": "stdout",
          "text": [
            "Saving LNVGY_test.csv to LNVGY_test.csv\n",
            "       Years\n",
            "0   4.797428\n",
            "1   5.287248\n",
            "2   5.289921\n",
            "3   6.309258\n",
            "4   5.284608\n",
            "..       ...\n",
            "95  7.314982\n",
            "96  5.087204\n",
            "97  4.684049\n",
            "98  4.400381\n",
            "99  5.010054\n",
            "\n",
            "[100 rows x 1 columns]\n"
          ]
        }
      ]
    },
    {
      "cell_type": "markdown",
      "metadata": {
        "id": "yj6f7p4Zl1oB"
      },
      "source": [
        "The dataset contains the equivalent lifetime in years that the number of cycles of charge and discharge tfor each battery tested. \n",
        "\n",
        "We can get some sense of the data by looking at an histogram."
      ]
    },
    {
      "cell_type": "code",
      "metadata": {
        "id": "3pDq59d2mWNV",
        "colab": {
          "base_uri": "https://localhost:8080/",
          "height": 281
        },
        "outputId": "e33dac15-ec7b-4b4b-b8dd-d692c23f0e58"
      },
      "source": [
        "plt.hist(laptop['Years'],bins=10,density=True) #Plot the histogram\n",
        "plt.title('Battery lifetime')  #Add the title \"Battery lifetime (years)\"\n",
        "plt.show()"
      ],
      "execution_count": 3,
      "outputs": [
        {
          "output_type": "display_data",
          "data": {
            "image/png": "[encoded data removed]",
            "text/plain": [
              "<Figure size 432x288 with 1 Axes>"
            ]
          },
          "metadata": {
            "needs_background": "light"
          }
        }
      ]
    },
    {
      "cell_type": "markdown",
      "metadata": {
        "id": "rPyvnm9Pmupk"
      },
      "source": [
        "The histogram is concentrated around 5.5. \n",
        "\n",
        "Similar to their previous models that had batteries that last 5+ years.\n",
        "\n",
        "Of course, the histogram does not tells us much about the average lifetime and the uncertainty associated to it.\n",
        "\n",
        "Hence, we compute the sample mean, and sample standard deviation as a measure of the uncertainty."
      ]
    },
    {
      "cell_type": "code",
      "metadata": {
        "id": "qCb2czd4nJgF",
        "colab": {
          "base_uri": "https://localhost:8080/",
          "height": 35
        },
        "outputId": "e85db80a-461e-4af5-bbb5-a14a5da68e9a"
      },
      "source": [
        "mean_lifetime = np.mean(laptop['Years'])\n",
        "std_lifetime = np.std(laptop['Years'])\n",
        "\n",
        "display([mean_lifetime,std_lifetime])"
      ],
      "execution_count": 4,
      "outputs": [
        {
          "output_type": "display_data",
          "data": {
            "text/plain": [
              "[5.28829452124, 0.8148235936313124]"
            ]
          },
          "metadata": {}
        }
      ]
    },
    {
      "cell_type": "markdown",
      "metadata": {
        "id": "XJKUneRKDqH9"
      },
      "source": [
        "Using the CLT and LLN, we can compute the distribution of the whole dataset."
      ]
    },
    {
      "cell_type": "code",
      "metadata": {
        "colab": {
          "base_uri": "https://localhost:8080/",
          "height": 35
        },
        "id": "xDoATFcnDzfW",
        "outputId": "e80ad46a-7596-47a9-9785-bcda9270bc55"
      },
      "source": [
        "mean_dist_all = mean_lifetime\n",
        "std_dist_all = std_lifetime/np.sqrt(100)\n",
        "\n",
        "display([mean_dist_all,std_dist_all])"
      ],
      "execution_count": 5,
      "outputs": [
        {
          "output_type": "display_data",
          "data": {
            "text/plain": [
              "[5.28829452124, 0.08148235936313124]"
            ]
          },
          "metadata": {}
        }
      ]
    },
    {
      "cell_type": "markdown",
      "metadata": {
        "id": "s_c16RbKEC2k"
      },
      "source": [
        "Which allows us to obtain confidence interval for the lifetime of the batteries."
      ]
    },
    {
      "cell_type": "code",
      "metadata": {
        "colab": {
          "base_uri": "https://localhost:8080/",
          "height": 54
        },
        "id": "Pbwcs_rPEKS6",
        "outputId": "9b18dc2e-ab4a-4c4f-9d17-312ffeb45a8f"
      },
      "source": [
        "z_alpha_all = t.ppf(0.975,df=100)  #Percent point function: it finds the value such that \n",
        "                        #the percentage is achieved.\n",
        "display(z_alpha_all)\n",
        "\n",
        "lim_inf_all = mean_dist_all-z_alpha_all*std_dist_all  #CI\n",
        "lim_sup_all = mean_dist_all+z_alpha_all*std_dist_all\n",
        "\n",
        "display([lim_inf_all, lim_sup_all])"
      ],
      "execution_count": 6,
      "outputs": [
        {
          "output_type": "display_data",
          "data": {
            "text/plain": [
              "1.9839715184496334"
            ]
          },
          "metadata": {}
        },
        {
          "output_type": "display_data",
          "data": {
            "text/plain": [
              "[5.12663584100747, 5.44995320147253]"
            ]
          },
          "metadata": {}
        }
      ]
    },
    {
      "cell_type": "markdown",
      "metadata": {
        "id": "KDlDKinGtzsx"
      },
      "source": [
        "## Small Sample\n",
        "\n",
        "Up to this point, we have worked with the whole dataset. Now we are interested in comparing the analysis of using a smaller sample size given the high costs associated to obtain the data.\n",
        "\n",
        "Thus, we work now with a smaller sample size by selecting a subsample. "
      ]
    },
    {
      "cell_type": "code",
      "metadata": {
        "id": "kPuvYsV5upe3"
      },
      "source": [
        "rnd.seed(21)\n",
        "samsize = 5\n",
        "sample = laptop['Years'].sample(n=samsize)"
      ],
      "execution_count": 7,
      "outputs": []
    },
    {
      "cell_type": "markdown",
      "metadata": {
        "id": "-PGpum6tvqV9"
      },
      "source": [
        "The analysis can then proceed as before just adjusting for the smaller sample size. \n",
        "\n",
        "In practical terms, it will mean more uncertainty and thus bigger confidence intervals and standard deviation.\n",
        "\n",
        "Nonetheless, the analysis is as valid as with the whole dataset only at a fraction of the cost."
      ]
    },
    {
      "cell_type": "markdown",
      "metadata": {
        "id": "UqdaMl58wBIv"
      },
      "source": [
        "We compute the sample mean and standard deviation."
      ]
    },
    {
      "cell_type": "code",
      "metadata": {
        "colab": {
          "base_uri": "https://localhost:8080/",
          "height": 35
        },
        "id": "dHcIBKmUwDaO",
        "outputId": "78281c67-2ab4-4c89-c028-179869935d4d"
      },
      "source": [
        "mean_sample = np.mean(sample)\n",
        "std_sample = np.std(sample)\n",
        "\n",
        "display([mean_sample,std_sample])"
      ],
      "execution_count": 8,
      "outputs": [
        {
          "output_type": "display_data",
          "data": {
            "text/plain": [
              "[5.3212963788, 0.7256820107415056]"
            ]
          },
          "metadata": {}
        }
      ]
    },
    {
      "cell_type": "markdown",
      "metadata": {
        "id": "PEQN_GAen433"
      },
      "source": [
        "## Central Limit Theorem and Law of Large Numbers\n",
        "\n",
        "The uncertainty regarding the sample mean can be modelled by a probability distribution. \n",
        "\n",
        "The **CLT tells us that this distribution is the Normal distribution** given by:\n",
        "$$\\bar{X}\\sim N(\\mu,\\frac{\\sigma}{\\sqrt{n}}),$$\n",
        "where $\\mu$ and $\\sigma$ are the mean and standard deviation of the data.\n",
        "\n",
        "In general, **we do not know the mean and standard deviation of the data Nonetheless, using the LLN, we can estimate them using their sample equivalents**.\n",
        "$$\\bar{X}\\approx \\mu,\\quad \\text{and}\\quad s\\approx \\sigma.$$\n",
        "\n",
        "Hence, we have got all the elements to write the distribution of the sample mean."
      ]
    },
    {
      "cell_type": "code",
      "metadata": {
        "colab": {
          "base_uri": "https://localhost:8080/",
          "height": 35
        },
        "id": "3IRJuktjxVK8",
        "outputId": "98b6083b-0d8f-46af-b51e-17ffc7116858"
      },
      "source": [
        "mean_dist = mean_sample\n",
        "std_dist = std_sample/np.sqrt(samsize)\n",
        "\n",
        "display([mean_dist,std_dist])"
      ],
      "execution_count": 9,
      "outputs": [
        {
          "output_type": "display_data",
          "data": {
            "text/plain": [
              "[5.3212963788, 0.3245348612133478]"
            ]
          },
          "metadata": {}
        }
      ]
    },
    {
      "cell_type": "markdown",
      "metadata": {
        "id": "ZseWhfYZxmj1"
      },
      "source": [
        "We can compare this distribution against the one obtained if we use all the data."
      ]
    },
    {
      "cell_type": "code",
      "metadata": {
        "colab": {
          "base_uri": "https://localhost:8080/",
          "height": 266
        },
        "id": "w-2GnQOfxlkL",
        "outputId": "e97141b8-9572-477e-9a3e-96504bec82f7"
      },
      "source": [
        "mean_dist_all = mean_lifetime\n",
        "std_dist_all = std_lifetime/np.sqrt(100)\n",
        "\n",
        "vals = np.arange(4.5,5.8,0.025)\n",
        "nor_vals_all = norm.pdf(vals,loc=mean_dist_all,scale=std_dist_all) #Evaluating the Normal\n",
        "nor_vals_dist = norm.pdf(vals,loc=mean_dist,scale=std_dist) #Evaluating the Normal\n",
        "plt.plot(vals,nor_vals_all,color=\"red\",linestyle=\"--\") #Adding the theoretical density\n",
        "plt.plot(vals,nor_vals_dist,color=\"blue\",linestyle=\"--\") #Adding the theoretical density\n",
        "plt.show()"
      ],
      "execution_count": 10,
      "outputs": [
        {
          "output_type": "display_data",
          "data": {
            "image/png": "[encoded data removed]",
            "text/plain": [
              "<Figure size 432x288 with 1 Axes>"
            ]
          },
          "metadata": {
            "needs_background": "light"
          }
        }
      ]
    },
    {
      "cell_type": "markdown",
      "metadata": {
        "id": "Fqi-WgspN4vF"
      },
      "source": [
        "# Confidence Intervals\n",
        "\n",
        "We construct a confidence interval by using the distribution of the parameter of interest.\n",
        "\n",
        "From the Normal distribution, we know that a good mass of the probability is around the mean or location parameter. This allows us to construct intervals that contain $Z\\%$ of the probability.\n",
        "\n",
        "In the general formulation, we construct a $(1-\\alpha)$ confidence interval by finding $Z_\\alpha$ such that\n",
        "$$[\\mu-Z_\\alpha\\sigma,\\mu+Z_\\alpha\\sigma],$$\n",
        "contains $(1-\\alpha)$ of the probability.\n",
        "\n",
        "It is more common to write the confidence interval as\n",
        "$$\\mu \\pm Z_\\alpha \\sigma.$$"
      ]
    },
    {
      "cell_type": "markdown",
      "metadata": {
        "id": "aCQK-mW9gTmd"
      },
      "source": [
        "We construct the confidence interval for the sample mean of the Simpsons sample where we do not know the standard deviation.\n",
        "\n",
        "The t distribution is symmetrical, so we need to find $Z_{\\alpha/2}$ such that $(1-\\alpha/2)$ of the distribution is above it."
      ]
    },
    {
      "cell_type": "code",
      "metadata": {
        "colab": {
          "base_uri": "https://localhost:8080/",
          "height": 35
        },
        "id": "0mIUlVJVccBN",
        "outputId": "b8c11926-fd31-4fe0-9033-643eafd93c1c"
      },
      "source": [
        "z_alpha = t.ppf(0.975,df=samsize)  #Percent point function: it finds the value such that \n",
        "                #the percentage is achieved.\n",
        "display(z_alpha)"
      ],
      "execution_count": 11,
      "outputs": [
        {
          "output_type": "display_data",
          "data": {
            "text/plain": [
              "2.5705818366147395"
            ]
          },
          "metadata": {}
        }
      ]
    },
    {
      "cell_type": "markdown",
      "metadata": {
        "id": "pmaezCwMdssA"
      },
      "source": [
        "We compute the confidence interval."
      ]
    },
    {
      "cell_type": "code",
      "metadata": {
        "colab": {
          "base_uri": "https://localhost:8080/",
          "height": 35
        },
        "id": "03qOYMsBfAZF",
        "outputId": "d6708d80-7680-4102-f83b-28a1097fa847"
      },
      "source": [
        "lim_inf_sample = mean_dist-z_alpha*std_dist  #CI\n",
        "lim_sup_sample = mean_dist+z_alpha*std_dist\n",
        "\n",
        "display([lim_inf_sample, lim_sup_sample])"
      ],
      "execution_count": 12,
      "outputs": [
        {
          "output_type": "display_data",
          "data": {
            "text/plain": [
              "[4.487052959216682, 6.155539798383317]"
            ]
          },
          "metadata": {}
        }
      ]
    },
    {
      "cell_type": "markdown",
      "metadata": {
        "id": "2AyEA8LUf19U"
      },
      "source": [
        "A much larger confidence interval given that we use a much smaller dataset. \n",
        "\n",
        "Nonetheless, notice that the sample mean computed with the whole dataset is contained inside."
      ]
    },
    {
      "cell_type": "markdown",
      "metadata": {
        "id": "gk5e9tr0jqL2"
      },
      "source": [
        "Suppose we can only sell the new model if the average lifetime is more than 5 years. \n",
        "\n",
        "Our null hypothesis would be then:\n",
        "\n",
        "> $H_0: \\overline{Lifetime}\\geq 5$ \n",
        "\n",
        "against the alternative\n",
        "\n",
        "> $H_a: \\overline{Lifetime}< 5$ \n",
        "\n",
        "Notice that this is actually a **one-tailed** test. \n",
        "\n",
        "First, we construct the statistic of the test:\n",
        "$$t_0 = \\frac{\\overline{Lifetime}-5}{\\frac{s}{\\sqrt{n}}},$$\n",
        "\n",
        "where $s$ is our estimate of the standard deviation.\n"
      ]
    },
    {
      "cell_type": "code",
      "metadata": {
        "colab": {
          "base_uri": "https://localhost:8080/",
          "height": 35
        },
        "id": "lJEbAGK8oPVL",
        "outputId": "e573f340-19ff-4e3f-c2c6-4f0b1486f226"
      },
      "source": [
        "t_0 = (mean_dist-5)/(std_dist)  #Compute the tests statistic\n",
        "display(t_0)"
      ],
      "execution_count": 13,
      "outputs": [
        {
          "output_type": "display_data",
          "data": {
            "text/plain": [
              "0.9900211570453776"
            ]
          },
          "metadata": {}
        }
      ]
    },
    {
      "cell_type": "markdown",
      "metadata": {
        "id": "HGYakIwhmCQq"
      },
      "source": [
        "Which we compare against the critical value."
      ]
    },
    {
      "cell_type": "code",
      "metadata": {
        "colab": {
          "base_uri": "https://localhost:8080/",
          "height": 35
        },
        "id": "IXEy21VglvLU",
        "outputId": "24cd4c7d-7451-489a-a556-ff7f8ab531e7"
      },
      "source": [
        "z_alpha_1side = t.ppf(0.05,df=samsize)  #Critical value from the oercent point function\n",
        "\n",
        "display(z_alpha_1side)"
      ],
      "execution_count": 14,
      "outputs": [
        {
          "output_type": "display_data",
          "data": {
            "text/plain": [
              "-2.0150483726691575"
            ]
          },
          "metadata": {}
        }
      ]
    },
    {
      "cell_type": "markdown",
      "metadata": {
        "id": "0O1cV4GxmWw2"
      },
      "source": [
        "Alternatively, or additionally, we can compute the **p-value** of the test."
      ]
    },
    {
      "cell_type": "code",
      "metadata": {
        "colab": {
          "base_uri": "https://localhost:8080/"
        },
        "id": "ZkJR_K2fUpYs",
        "outputId": "f3577b21-2bba-4776-e754-8801e271d0b1"
      },
      "source": [
        "t.cdf(t_0,df = samsize)   #Evaluating the p-value"
      ],
      "execution_count": 15,
      "outputs": [
        {
          "output_type": "execute_result",
          "data": {
            "text/plain": [
              "0.8161881664511952"
            ]
          },
          "metadata": {},
          "execution_count": 15
        }
      ]
    },
    {
      "cell_type": "markdown",
      "metadata": {
        "id": "jWKyCQZSzPAr"
      },
      "source": [
        "Which tells us that with a 95% confidence, the average lifetime of the batteries in the new model is more than 5 years.\n",
        "\n",
        "We obtained this result by looking at only 10 batteries."
      ]
    },
    {
      "cell_type": "markdown",
      "metadata": {
        "id": "Nhkk4kIPIgrD"
      },
      "source": [
        "You may be interested in checking the last part of the analysis in the complete dataset."
      ]
    }
  ]
}