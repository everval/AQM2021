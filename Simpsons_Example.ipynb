{
  "nbformat": 4,
  "nbformat_minor": 0,
  "metadata": {
    "colab": {
      "name": "Simpsons_Example.ipynb",
      "provenance": [],
      "collapsed_sections": [],
      "include_colab_link": true
    },
    "kernelspec": {
      "name": "python3",
      "display_name": "Python 3"
    },
    "language_info": {
      "name": "python"
    }
  },
  "cells": [
    {
      "cell_type": "markdown",
      "metadata": {
        "id": "view-in-github",
        "colab_type": "text"
      },
      "source": [
        "<a href=\"https://colab.research.google.com/github/everval/AQM2021/blob/main/Simpsons_Example.ipynb\" target=\"_parent\"><img src=\"https://colab.research.google.com/assets/colab-badge.svg\" alt=\"Open In Colab\"/></a>"
      ]
    },
    {
      "cell_type": "markdown",
      "metadata": {
        "id": "n3peQzx8gVQc"
      },
      "source": [
        "# Example: The Simpsons Ratings\n",
        "\n",
        "Today, we are going to discuss some fundamental statistical concepts with an example with real data.\n",
        "\n",
        "As usual, we start by loading the Python packages that we are going to use in the analysis."
      ]
    },
    {
      "cell_type": "code",
      "metadata": {
        "id": "GP22-79G-w_u"
      },
      "source": [
        "import numpy as np #Package for numerical multidimensional tables\n",
        "import pandas as pd #Package for data frames\n",
        "import matplotlib.pyplot as plt #Package for plots and graphs\n",
        "import random as rnd #Package for random number generation\n",
        "from scipy.stats import norm #Import the Normal distribution from the scipy.stats package\n",
        "from scipy.stats import t #Import the t distribution from the scipy.stats package"
      ],
      "execution_count": null,
      "outputs": []
    },
    {
      "cell_type": "markdown",
      "metadata": {
        "id": "OsbK6zwGlxX7"
      },
      "source": [
        "Over the years, I have had a discussion with friends and colleagues about **is The Simpsons a good show**. \n",
        "\n",
        "To give the discussion some objective dimension, we decided to **collect some data** look at the ratings from episodes along the years (There are 31 seasons and counting!). The data comes from \"ratingraph.com\" and it is saved in the ‘Simpsons_Ratings.csv’ file.\n",
        "\n",
        "We upload the file to Google Collab with the following code."
      ]
    },
    {
      "cell_type": "code",
      "metadata": {
        "id": "AH96l375l0Y0",
        "colab": {
          "resources": {
            "http://localhost:8080/nbextensions/google.colab/files.js": {
              "data": "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",
              "ok": true,
              "headers": [
                [
                  "content-type",
                  "application/javascript"
                ]
              ],
              "status": 200,
              "status_text": "OK"
            }
          },
          "base_uri": "https://localhost:8080/",
          "height": 332
        },
        "outputId": "81a3cef0-57d2-4802-e2db-072f81e4523a"
      },
      "source": [
        "from google.colab import files\n",
        "\n",
        "uploaded = files.upload()\n",
        "simpsons = pd.read_csv('Simpsons_ratings.csv')\n",
        "print(simpsons)"
      ],
      "execution_count": null,
      "outputs": [
        {
          "output_type": "display_data",
          "data": {
            "text/html": [
              "\n",
              "     <input type=\"file\" id=\"files-f24e6e45-2644-443b-80be-ee583f87f1e6\" name=\"files[]\" multiple disabled\n",
              "        style=\"border:none\" />\n",
              "     <output id=\"result-f24e6e45-2644-443b-80be-ee583f87f1e6\">\n",
              "      Upload widget is only available when the cell has been executed in the\n",
              "      current browser session. Please rerun this cell to enable.\n",
              "      </output>\n",
              "      <script src=\"/nbextensions/google.colab/files.js\"></script> "
            ],
            "text/plain": [
              "<IPython.core.display.HTML object>"
            ]
          },
          "metadata": {}
        },
        {
          "output_type": "stream",
          "name": "stdout",
          "text": [
            "Saving Simpsons_ratings.csv to Simpsons_ratings.csv\n",
            "     Season  Episode                                Title  Year  Votes  Rating\n",
            "0         1        1    Simpsons Roasting on an Open Fire  1989   6681     8.2\n",
            "1         1        2                      Bart the Genius  1990   4358     7.7\n",
            "2         1        3                      Homer's Odyssey  1990   3828     7.4\n",
            "3         1        4        There's No Disgrace Like Home  1990   3785     7.7\n",
            "4         1        5                     Bart the General  1990   4054     8.0\n",
            "..      ...      ...                                  ...   ...    ...     ...\n",
            "700      32       18                         Burger Kings  2021    323     6.9\n",
            "701      32       19  Panic on the Streets of Springfield  2021    425     6.2\n",
            "702      32       20             Mother and Child Reunion  2021    291     7.2\n",
            "703      32       21            The Man from G.R.A.M.P.A.  2021    253     6.5\n",
            "704      32       22                  The Last Barfighter  2021    301     7.7\n",
            "\n",
            "[705 rows x 6 columns]\n"
          ]
        }
      ]
    },
    {
      "cell_type": "markdown",
      "metadata": {
        "id": "yj6f7p4Zl1oB"
      },
      "source": [
        "The dataset includes season, number of episode, title, year, votes (number of people rating the episode), and rating. \n",
        "\n",
        "The data is presented in ascending order through the years.\n",
        "\n",
        "The file contains ratings for all Simpsons episodes to date. If the Simpsons were to be cancelled tomorrow, the data would consists of the **population**. \n",
        "\n",
        "Nonetheless, as more episodes are already in production, even this large amount of data is a **sample** from the Simpsons ratings.\n",
        "\n",
        "We can get a sense of the trajectory of the show by looking at the rating through time. That is, we create a **time series**."
      ]
    },
    {
      "cell_type": "code",
      "metadata": {
        "id": "ukzofCk_l8SP",
        "colab": {
          "base_uri": "https://localhost:8080/",
          "height": 295
        },
        "outputId": "8131b6d4-5431-43dd-9a7b-c8b4c7cebb96"
      },
      "source": [
        "n1 = simpsons.shape[0]\n",
        "numeps = list(range(n1))\n",
        "plt.plot(numeps,simpsons['Rating'])\n",
        "plt.xlabel('Number of episode')\n",
        "plt.ylabel('Rating')\n",
        "plt.title(\"The Simpsons\")\n",
        "plt.show()"
      ],
      "execution_count": null,
      "outputs": [
        {
          "output_type": "display_data",
          "data": {
            "image/png": "[encoded data removed]",
            "text/plain": [
              "<Figure size 432x288 with 1 Axes>"
            ]
          },
          "metadata": {
            "needs_background": "light"
          }
        }
      ]
    },
    {
      "cell_type": "markdown",
      "metadata": {
        "id": "bWiPV6_tmRA3"
      },
      "source": [
        "Another way this to present the different ratings is to construct an histogram."
      ]
    },
    {
      "cell_type": "code",
      "metadata": {
        "id": "3pDq59d2mWNV",
        "colab": {
          "base_uri": "https://localhost:8080/",
          "height": 281
        },
        "outputId": "22715fe9-98e5-4457-baa9-6b0d93d3f712"
      },
      "source": [
        "plt.hist(simpsons['Rating'],bins=10,density=True)\n",
        "plt.title('Simpsons Ratings')\n",
        "plt.show()"
      ],
      "execution_count": null,
      "outputs": [
        {
          "output_type": "display_data",
          "data": {
            "image/png": "[encoded data removed]",
            "text/plain": [
              "<Figure size 432x288 with 1 Axes>"
            ]
          },
          "metadata": {
            "needs_background": "light"
          }
        }
      ]
    },
    {
      "cell_type": "markdown",
      "metadata": {
        "id": "rPyvnm9Pmupk"
      },
      "source": [
        "The histogram is concentrated more towards the high ratings. Which gives more evidence that there seems to be more good episodes than bad.\n",
        "\n",
        "The limitation of looking at ratings for all episodes is that it can be hard to make decisions. \n",
        "\n",
        "Hence, we compute some measurements of the data that allow us to make better decisions. That is, computing a *representative* number.\n",
        "\n",
        "The most common tests between samples is to compare their *central tendencies*. That is, how an episode in *the middle* compares between shows. The most common measure is the **mean**, found by adding all data points and dividing by the number of data points. \n",
        "\n",
        "Furthermore, recall that there are many sources of uncertainty regarding these quantities. We know that the **standard deviation** is a measure of the uncertainty.\n",
        "\n",
        "We use these quantities in formal statistical tools."
      ]
    },
    {
      "cell_type": "code",
      "metadata": {
        "id": "qCb2czd4nJgF",
        "colab": {
          "base_uri": "https://localhost:8080/",
          "height": 35
        },
        "outputId": "a8a38881-8ac4-437c-bacf-a08638760563"
      },
      "source": [
        "mean_simpsons = np.mean(simpsons['Rating'])\n",
        "std_simpsons = np.std(simpsons['Rating'])\n",
        "\n",
        "display([mean_simpsons,std_simpsons])"
      ],
      "execution_count": null,
      "outputs": [
        {
          "output_type": "display_data",
          "data": {
            "text/plain": [
              "[7.197446808510636, 0.8418448200656555]"
            ]
          },
          "metadata": {}
        }
      ]
    },
    {
      "cell_type": "markdown",
      "metadata": {
        "id": "KDlDKinGtzsx"
      },
      "source": [
        "## Small Sample\n",
        "\n",
        "Up to this point, we have worked with the whole dataset, the 700+ observations. For most real data applications, this would be considered almost unreasonable  large given the high costs associated to obtain real data.\n",
        "\n",
        "Thus, for an example closer to real life, we work now with a more reasonable sample size by selecting a subsample. Doing so will also allow us to compare our results from the small sample against the large one."
      ]
    },
    {
      "cell_type": "markdown",
      "metadata": {
        "id": "Tx7OlkpJuqBk"
      },
      "source": [
        "Imagine that we have to watch every episode to obtain the rating. It would be extremely expensive (in terms of time at least) to watch all the episodes. \n",
        "\n",
        "Thus, we may decide to just randomly pick a smaller subset of the episodes and do our analysis considering the smaller dataset."
      ]
    },
    {
      "cell_type": "code",
      "metadata": {
        "id": "kPuvYsV5upe3"
      },
      "source": [
        "samsize = 10\n",
        "sample = simpsons['Rating'].sample(n=samsize)"
      ],
      "execution_count": null,
      "outputs": []
    },
    {
      "cell_type": "markdown",
      "metadata": {
        "id": "-PGpum6tvqV9"
      },
      "source": [
        "The analysis can then proceed as before just adjusting for the smaller sample size. \n",
        "\n",
        "In practical terms, it will mean more uncertainty and thus bigger confidence intervals and standard deviation.\n",
        "\n",
        "Nonetheless, the analysis is as valid as with the whole dataset only at a fraction of the cost."
      ]
    },
    {
      "cell_type": "markdown",
      "metadata": {
        "id": "UqdaMl58wBIv"
      },
      "source": [
        "We compute the sample mean and standard deviation."
      ]
    },
    {
      "cell_type": "code",
      "metadata": {
        "colab": {
          "base_uri": "https://localhost:8080/",
          "height": 35
        },
        "id": "dHcIBKmUwDaO",
        "outputId": "62d7422b-5b62-4a27-8448-e6561bcbe86a"
      },
      "source": [
        "mean_sample = np.mean(sample)\n",
        "std_sample = np.std(sample)\n",
        "\n",
        "display([mean_sample,std_sample])"
      ],
      "execution_count": null,
      "outputs": [
        {
          "output_type": "display_data",
          "data": {
            "text/plain": [
              "[7.2299999999999995, 0.8485870609430715]"
            ]
          },
          "metadata": {}
        }
      ]
    },
    {
      "cell_type": "markdown",
      "metadata": {
        "id": "PEQN_GAen433"
      },
      "source": [
        "## Central Limit Theorem and Law of Large Numbers\n",
        "\n",
        "The uncertainty regarding the sample mean can be modelled by a probability distribution. \n",
        "\n",
        "The **CLT tells us that this distribution is the Normal distribution** given by:\n",
        "$$\\bar{X}\\sim N(\\mu,\\frac{\\sigma}{\\sqrt{n}}),$$\n",
        "where $\\mu$ and $\\sigma$ are the mean and standard deviation of the data.\n",
        "\n",
        "In general, **we do not know the mean and standard deviation of the data Nonetheless, using the LLN, we can estimate them using their sample equivalents**.\n",
        "$$\\bar{X}\\approx \\mu,\\quad \\text{and}\\quad s\\approx \\sigma.$$\n",
        "\n",
        "Hence, we have got all the elements to write the distribution of the sample mean."
      ]
    },
    {
      "cell_type": "code",
      "metadata": {
        "colab": {
          "base_uri": "https://localhost:8080/",
          "height": 35
        },
        "id": "3IRJuktjxVK8",
        "outputId": "91d42c97-4b94-4086-bf5e-427f85c3af88"
      },
      "source": [
        "mean_dist = mean_sample\n",
        "std_dist = std_sample/np.sqrt(samsize)\n",
        "\n",
        "display([mean_dist,std_dist])"
      ],
      "execution_count": null,
      "outputs": [
        {
          "output_type": "display_data",
          "data": {
            "text/plain": [
              "[7.2299999999999995, 0.2683467905528218]"
            ]
          },
          "metadata": {}
        }
      ]
    },
    {
      "cell_type": "markdown",
      "metadata": {
        "id": "ZseWhfYZxmj1"
      },
      "source": [
        "We can compare this distribution against the one obtained if we use all the data."
      ]
    },
    {
      "cell_type": "code",
      "metadata": {
        "colab": {
          "base_uri": "https://localhost:8080/",
          "height": 265
        },
        "id": "w-2GnQOfxlkL",
        "outputId": "db074f9c-d831-4b8e-f31c-93043d2db614"
      },
      "source": [
        "mean_dist_all = mean_simpsons\n",
        "std_dist_all = std_simpsons/np.sqrt(n1)\n",
        "\n",
        "vals = np.arange(6.5,8,0.025)\n",
        "nor_vals_all = norm.pdf(vals,loc=mean_dist_all,scale=std_dist_all) #Evaluating the Normal\n",
        "nor_vals_dist = norm.pdf(vals,loc=mean_dist,scale=std_dist) #Evaluating the Normal\n",
        "plt.plot(vals,nor_vals_all,color=\"red\",linestyle=\"--\") #Adding the theoretical density\n",
        "plt.plot(vals,nor_vals_dist,color=\"blue\",linestyle=\"--\") #Adding the theoretical density\n",
        "plt.show()"
      ],
      "execution_count": null,
      "outputs": [
        {
          "output_type": "display_data",
          "data": {
            "image/png": "[encoded data removed]",
            "text/plain": [
              "<Figure size 432x288 with 1 Axes>"
            ]
          },
          "metadata": {
            "needs_background": "light"
          }
        }
      ]
    },
    {
      "cell_type": "markdown",
      "metadata": {
        "id": "Fqi-WgspN4vF"
      },
      "source": [
        "# Confidence Intervals\n",
        "\n",
        "We construct a confidence interval by using the distribution of the parameter of interest.\n",
        "\n",
        "From the Normal distribution, we know that a good mass of the probability is around the mean or location parameter. This allows us to construct intervals that contain $Z\\%$ of the probability.\n",
        "\n",
        "In the general formulation, we construct a $(1-\\alpha)$ confidence interval by finding $Z_\\alpha$ such that\n",
        "$$[\\mu-Z_\\alpha\\sigma,\\mu+Z_\\alpha\\sigma],$$\n",
        "contains $(1-\\alpha)$ of the probability.\n",
        "\n",
        "It is more common to write the confidence interval as\n",
        "$$\\mu \\pm Z_\\alpha \\sigma.$$"
      ]
    },
    {
      "cell_type": "markdown",
      "metadata": {
        "id": "aCQK-mW9gTmd"
      },
      "source": [
        "We construct the confidence interval for the sample mean of the Simpsons sample where we do not know the standard deviation.\n",
        "\n",
        "The t distribution is symmetrical, so we need to find $Z_{\\alpha/2}$ such that $(1-\\alpha/2)$ of the distribution is above it."
      ]
    },
    {
      "cell_type": "code",
      "metadata": {
        "colab": {
          "base_uri": "https://localhost:8080/",
          "height": 35
        },
        "id": "0mIUlVJVccBN",
        "outputId": "05e8db7c-ad8d-47fd-dc30-c71875d3f1d1"
      },
      "source": [
        "z_alpha = t.ppf(0.975,df=samsize)  #Percent point function: it finds the value such that \n",
        "                #the percentage is achieved.\n",
        "display(z_alpha)"
      ],
      "execution_count": null,
      "outputs": [
        {
          "output_type": "display_data",
          "data": {
            "text/plain": [
              "2.2281388519649385"
            ]
          },
          "metadata": {}
        }
      ]
    },
    {
      "cell_type": "markdown",
      "metadata": {
        "id": "pmaezCwMdssA"
      },
      "source": [
        "We compute the confidence interval."
      ]
    },
    {
      "cell_type": "code",
      "metadata": {
        "colab": {
          "base_uri": "https://localhost:8080/",
          "height": 35
        },
        "id": "03qOYMsBfAZF",
        "outputId": "1d78dddd-beef-4d41-a11d-cba6d128ca01"
      },
      "source": [
        "lim_inf_sample = mean_dist-z_alpha*std_dist  #CI\n",
        "lim_sup_sample = mean_dist+z_alpha*std_dist\n",
        "\n",
        "display([lim_inf_sample, lim_sup_sample])"
      ],
      "execution_count": null,
      "outputs": [
        {
          "output_type": "display_data",
          "data": {
            "text/plain": [
              "[6.632086090169159, 7.82791390983084]"
            ]
          },
          "metadata": {}
        }
      ]
    },
    {
      "cell_type": "markdown",
      "metadata": {
        "id": "2AyEA8LUf19U"
      },
      "source": [
        "A much larger confidence interval given that we use a much smaller dataset. \n",
        "\n",
        "Nonetheless, notice that the sample mean computed with the whole dataset is contained inside."
      ]
    },
    {
      "cell_type": "markdown",
      "metadata": {
        "id": "gk5e9tr0jqL2"
      },
      "source": [
        "Suppose we call it a good show if it gets a rating of 7.5 or above. Our null hypothesis would be then:\n",
        "\n",
        "> $H_0: \\overline{SimpsonsRatings}\\geq 7.5$ \n",
        "\n",
        "against the alternative\n",
        "\n",
        "> $H_a: \\overline{SimpsonsRatings}< 7.5$ \n",
        "\n",
        "Notice that this is actually a **one-tailed** test. \n",
        "\n",
        "First, we construct the statistic of the test:\n",
        "$$t_0 = \\frac{\\overline{SimpsonsRatings}-7.5}{\\frac{s}{\\sqrt{n}}},$$\n",
        "\n",
        "where $s$ is our estimate of the standard deviation.\n"
      ]
    },
    {
      "cell_type": "code",
      "metadata": {
        "colab": {
          "base_uri": "https://localhost:8080/",
          "height": 35
        },
        "id": "lJEbAGK8oPVL",
        "outputId": "4bc4b111-3af2-4340-d4af-defaa38b0554"
      },
      "source": [
        "t_0 = (mean_dist-7.5)/(std_dist)  #Compute the tests statistic\n",
        "display(t_0)"
      ],
      "execution_count": null,
      "outputs": [
        {
          "output_type": "display_data",
          "data": {
            "text/plain": [
              "-1.0061607200286349"
            ]
          },
          "metadata": {}
        }
      ]
    },
    {
      "cell_type": "markdown",
      "metadata": {
        "id": "HGYakIwhmCQq"
      },
      "source": [
        "Which we compare against the critical value."
      ]
    },
    {
      "cell_type": "code",
      "metadata": {
        "colab": {
          "base_uri": "https://localhost:8080/",
          "height": 35
        },
        "id": "IXEy21VglvLU",
        "outputId": "2ed83bc4-9d51-4744-f8df-857bf2bb6503"
      },
      "source": [
        "z_alpha_1side = t.ppf(0.05,df=samsize)  #Critical value from the oercent point function\n",
        "\n",
        "display(z_alpha_1side)"
      ],
      "execution_count": null,
      "outputs": [
        {
          "output_type": "display_data",
          "data": {
            "text/plain": [
              "-1.8124611228107341"
            ]
          },
          "metadata": {}
        }
      ]
    },
    {
      "cell_type": "markdown",
      "metadata": {
        "id": "0O1cV4GxmWw2"
      },
      "source": [
        "Alternatively, or additionally, we can compute the **p-value** of the test by computing the probability of observing the value in the sample under the assumption that the rating is 7.5"
      ]
    },
    {
      "cell_type": "code",
      "metadata": {
        "colab": {
          "base_uri": "https://localhost:8080/"
        },
        "id": "ZkJR_K2fUpYs",
        "outputId": "8812ed5d-4fc5-4ac7-f894-e5a87e443bfe"
      },
      "source": [
        "t.pdf(t_0,df = samsize)   #Evaluating the p-value"
      ],
      "execution_count": null,
      "outputs": [
        {
          "output_type": "execute_result",
          "data": {
            "text/plain": [
              "0.2289436056618496"
            ]
          },
          "metadata": {},
          "execution_count": 42
        }
      ]
    },
    {
      "cell_type": "markdown",
      "metadata": {
        "id": "jWKyCQZSzPAr"
      },
      "source": [
        "Which tells us that by watching only 10 episodes of the Simpsons we are unable to reject **with statistical confidence** that the Simpsons is a good show.\n",
        "\n",
        "As we saw with the complete dataset, we would need to watch many more episodes."
      ]
    }
  ]
}