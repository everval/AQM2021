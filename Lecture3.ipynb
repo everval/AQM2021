{
  "nbformat": 4,
  "nbformat_minor": 0,
  "metadata": {
    "colab": {
      "name": "Lecture3.ipynb",
      "provenance": [],
      "collapsed_sections": [],
      "toc_visible": true,
      "include_colab_link": true
    },
    "kernelspec": {
      "name": "python3",
      "display_name": "Python 3"
    },
    "language_info": {
      "name": "python"
    }
  },
  "cells": [
    {
      "cell_type": "markdown",
      "metadata": {
        "id": "view-in-github",
        "colab_type": "text"
      },
      "source": [
        "<a href=\"https://colab.research.google.com/github/everval/AQM2021/blob/main/Lecture3.ipynb\" target=\"_parent\"><img src=\"https://colab.research.google.com/assets/colab-badge.svg\" alt=\"Open In Colab\"/></a>"
      ]
    },
    {
      "cell_type": "markdown",
      "metadata": {
        "id": "n3peQzx8gVQc"
      },
      "source": [
        "# Confidence Intervals and Hypothesis Tests "
      ]
    },
    {
      "cell_type": "markdown",
      "metadata": {
        "id": "Qi3e8MgUfaVY"
      },
      "source": [
        "## Our Simpsons example\n",
        "\n",
        "It is perhaps time to make a summary of what we have done in the last lectures. \n",
        "\n",
        "We do so by analyzing the steps that we have taken towards answering the question: is the Simpsons a good show?*\n",
        "\n",
        "First, as usual, we load the Python packages for analysis."
      ]
    },
    {
      "cell_type": "code",
      "metadata": {
        "id": "GP22-79G-w_u"
      },
      "source": [
        "import numpy as np #Package for numerical multidimensional tables\n",
        "import pandas as pd #Package for data frames\n",
        "import matplotlib.pyplot as plt #Package for plots and graphs\n",
        "import random as rnd #Package for random number generation\n",
        "from scipy.stats import norm #Import the Normal distribution from the scipy.stats package"
      ],
      "execution_count": null,
      "outputs": []
    },
    {
      "cell_type": "markdown",
      "metadata": {
        "id": "Gcw9pv2iPwaZ"
      },
      "source": [
        "We collected data on Simpsons and decided to make a histogram to see the ratings."
      ]
    },
    {
      "cell_type": "code",
      "metadata": {
        "id": "ddEVa8IDPvCl"
      },
      "source": [
        "from google.colab import files\n",
        "uploaded = files.upload()\n",
        "\n",
        "simpsons =  #Load the data\n",
        "print(simpsons)\n",
        " #Creating the histogram of the random sample\n",
        "                                        #We make the option density true so the bins sum to 1\n",
        "plt.title('Simpsons Ratings')"
      ],
      "execution_count": null,
      "outputs": []
    },
    {
      "cell_type": "markdown",
      "metadata": {
        "id": "S0KJHLtIRQkx"
      },
      "source": [
        "The histogram is an empirical distribution of the data. \n",
        "\n",
        "As noted before, there seems to be several episodes with $rating\\geq 7$, which could be though about as representing a good show. \n",
        "\n",
        "Nonetheless, it can be hard to make a decision based on a graph. Particularly because we could change attibutes like the bin and obtain different results.\n",
        "\n",
        "Hence, we decided to compute an *overall* rating for the show. The most common measure to grade a show is the average or sample mean, which we compute in Python.\n",
        "\n",
        "Moreover, we compute the standard deviation to get a sense of the *dispersion* of the ratings."
      ]
    },
    {
      "cell_type": "code",
      "metadata": {
        "id": "7AihPqX8RdBk"
      },
      "source": [
        "mean_simpsons =   #Compute the sample mean\n",
        "std_simpsons =   #Compute the sample standard deviation\n",
        "\n",
        "display([mean_simpsons,std_simpsons])"
      ],
      "execution_count": null,
      "outputs": []
    },
    {
      "cell_type": "markdown",
      "metadata": {
        "id": "hSmfjDmtSdah"
      },
      "source": [
        "However, we noticed that the sample mean that we just computed is indeed one of *many* that could be considered. \n",
        "\n",
        "Different results are obtained depending on the sample that we select.\n"
      ]
    },
    {
      "cell_type": "code",
      "metadata": {
        "id": "gtrskcLQAyg8"
      },
      "source": [
        "this_sample =   #Generate a \"new\" subsample\n",
        "display(this_sample)   \n",
        "\n",
        "mean_sample =    #Computing the mean and standard deviation for this new sample\n",
        "std_sample = \n",
        "display([mean_sample,std_sample])"
      ],
      "execution_count": null,
      "outputs": []
    },
    {
      "cell_type": "markdown",
      "metadata": {
        "id": "cD1I9TMACA6g"
      },
      "source": [
        "Luckily, the Central Limit Theorem (CLT) allows us to find the distribution of the sample mean. \n",
        "\n",
        "The CLT tells us that as the sample size increases $(n\\to\\infty)$, regardless of the distribution of the data, the sample mean follows a Normal distribution given by \n",
        "$$\\bar{X}\\sim N(\\mu,\\frac{\\sigma}{\\sqrt{n}}),$$\n",
        "where $\\mu$ and $\\sigma$ are the (true/theoretical) mean and standard deviation of the data. \n",
        "\n",
        "The problem then changes to finding the mean and standard deviation of the data, and here is where the Law of Large Numbers (LLN) comes to the rescue.  \n",
        "\n",
        "The LLN states that, as the sample size increases $(n\\to\\infty)$, the sample mean approximates the true/theoretical mean; that is,\n",
        "$$\\bar{X}\\approx\\mu.$$\n",
        "\n",
        "A similar argument can be made for the standard deviation.\n",
        "\n",
        "Hence, we have got all the elements to write the distribution of the sample mean."
      ]
    },
    {
      "cell_type": "code",
      "metadata": {
        "id": "wUuT4aAzX771"
      },
      "source": [
        "vals =   #Making a grid for the 'x' axis\n",
        "\n",
        "mean_sample_mean =   #Computing the mean of the CLTs distribution\n",
        "std_sample_mean =   #Computing the standard deviatoin of the CLTs distribution\n",
        "\n",
        "nor_vals =  #Evaluating the Normal\n",
        "plt.plot(vals,nor_vals,color=\"red\",linestyle=\"--\") #Adding the theoretical density of the sample mean\n",
        "plt.title('Distribution of Simpsons Ratings Sample Mean')\n",
        "    #Adding vertical line at the mean\n",
        "  #Adding a legend\n",
        "plt.show()"
      ],
      "execution_count": null,
      "outputs": []
    },
    {
      "cell_type": "markdown",
      "metadata": {
        "id": "AFf5XfaZvPPs"
      },
      "source": [
        "Knowing the distribution allows us to compute the *probability* that the sample mean takes a higher (lower) value. \n",
        "\n",
        "For example, we can evaluate the probability that the sample mean of the Simpsons ratings is 7 or greater; that is\n",
        "$$Pr(\\bar{X}\\geq 7) = 1 - Pr(\\bar{X}< 7)$$\n"
      ]
    },
    {
      "cell_type": "code",
      "metadata": {
        "id": "HrgiTsDfJdwQ"
      },
      "source": [
        "  #Evaluation the probability that\n",
        "                                      # the sample mean is greater or equal to 7"
      ],
      "execution_count": null,
      "outputs": []
    },
    {
      "cell_type": "markdown",
      "metadata": {
        "id": "y8IpU3GfLgL5"
      },
      "source": [
        "Which indicates that we are more than likely to compute a sample mean greater than 7 (almost) regardless of the sample that we consider. \n",
        "\n",
        "The idea is that we could use this information to decide if the Simpsons are a good show or not.\n",
        "\n",
        "Additionally, we may be interested in testing if the Simpsons is a better show than Family Guy by comparing their sample means."
      ]
    },
    {
      "cell_type": "markdown",
      "metadata": {
        "id": "Fqi-WgspN4vF"
      },
      "source": [
        "# Confidence Intervals\n",
        "\n",
        "A confidence interval is another type of estimate but, instead of being just one number, it is an interval of numbers.\n",
        "\n",
        "We construct a confidence interval by using the distribution of the parameter of interest.\n",
        "\n",
        "From the Normal distribution, we know that a good mass of the probability is around the mean or location parameter. This allows us to construct intervals that contain $Z\\%$ of the probability.\n",
        "\n",
        "In the general formulation, we construct a $(1-\\alpha)$ confidence interval by finding $Z_\\alpha$ such that\n",
        "$$[\\mu-Z_\\alpha\\sigma,\\mu+Z_\\alpha\\sigma],$$\n",
        "contains $(1-\\alpha)$ of the probability.\n",
        "\n",
        "We saw last time that \n",
        "$$[\\mu-2\\sigma,\\mu+2\\sigma],$$\n",
        "contains approximately 0.95 of the probability. Which tells us that $Z_{0.05}\\approx 2$. In fact, $Z_{0.05}=1.96$. \n",
        "\n",
        "It is more common to write the confidence interval as\n",
        "$$\\mu \\pm Z_\\alpha \\sigma = \\mu \\pm 1.96 \\sigma.$$\n",
        "\n",
        "We can use a similar derivation for whatever percentage we want to obtain.*italicized text*"
      ]
    },
    {
      "cell_type": "markdown",
      "metadata": {
        "id": "3WrBPuXI-W4x"
      },
      "source": [
        "## Known Standard Deviation\n",
        "\n",
        "In cases where we know the standard deviation, the confidence interval can be computed just as above using the Normal distribution to find $Z_\\alpha$. \n",
        "\n",
        "An example using the binomial distribution."
      ]
    },
    {
      "cell_type": "code",
      "metadata": {
        "id": "fPIe-HIC5ccR"
      },
      "source": [
        "from scipy.stats import binom  #Importing the binomial distribution\n",
        "xbars = []   #New list to save the sample means\n",
        "N = 100     #Size of the sample\n",
        "n = 1000    #Number of samples\n",
        "\n",
        "for i in range(0,n):     \n",
        "    #Generate a new B(30,0.1) sample of size N\n",
        "    #Compute the mean for this sample\n",
        "\n",
        "   #Plot the histogram\n",
        "plt.title('Distribution of sample mean')\n",
        "\n",
        "mu =         #True/theoretical mean\n",
        "sig =   #True/theoretical standard deviation\n",
        "\n",
        "mean_xbars =   #CLT: The theoretical mean (that we know in this case)\n",
        "std_xbars =  #CLT: The theoretical standard deviation (that we know), divided by square of sample size\n",
        "\n",
        "vals = np.arange(mean_xbars-1,mean_xbars+1,0.05)  #Making a new grid\n",
        "nor_vals = norm.pdf(vals,loc=mean_xbars,scale=std_xbars) #Evaluating the Normal\n",
        "\n",
        "plt.plot(vals,nor_vals,color=\"red\",linestyle=\"--\") #Adding the theoretical density\n",
        "plt.xlim(mean_xbars-1,mean_xbars+1)\n",
        "plt.show()"
      ],
      "execution_count": null,
      "outputs": []
    },
    {
      "cell_type": "markdown",
      "metadata": {
        "id": "oLf8wl3_EkLB"
      },
      "source": [
        "The binomial follows a $N(3,\\frac{2.7}{\\sqrt{100}})$, hence a $\\alpha\\%$ confidence interval is given by \n",
        "$[3-Z_\\alpha*\\frac{2.7}{\\sqrt{100}},3+Z_\\alpha*\\frac{2.7}{\\sqrt{100}}],$\n",
        "where $Z_\\alpha$, or **critical value** comes from the Normal distribution.\n",
        "\n",
        "Hence, a 90% confidence interval is given by\n",
        "$[3-1.64*\\frac{2.7}{\\sqrt{100}},3+1.64*\\frac{2.7}{\\sqrt{100}}].$"
      ]
    },
    {
      "cell_type": "code",
      "metadata": {
        "id": "9GOmRF0JEjeQ"
      },
      "source": [
        "lim_inf =   #Confidence Invertals lim inf\n",
        "lim_sup = \n",
        "\n",
        "display([lim_inf, lim_sup])\n",
        "\n",
        "con_int =    #Generate grid for the CI\n",
        "\n",
        "plt.title('Distribution of sample mean')\n",
        "plt.plot(vals,nor_vals,color=\"red\",linestyle=\"--\") #Adding the theoretical density\n",
        "plt.xlim(mean_xbars-1,mean_xbars+1)\n",
        "  #Paint the area\n",
        "plt.show()\n",
        "\n",
        "display()  #Compute the area inside the CI"
      ],
      "execution_count": null,
      "outputs": []
    },
    {
      "cell_type": "markdown",
      "metadata": {
        "id": "b6xqXK_zX9ai"
      },
      "source": [
        "We can compute the proportion of sample means generated above that fall inside the confidence interval."
      ]
    },
    {
      "cell_type": "code",
      "metadata": {
        "id": "OJQrgayjX8Sp"
      },
      "source": [
        "   #Start the count at zero\n",
        "for ii in range(0,n):\n",
        "   #Add one to the count if \n",
        "                                      #the sample mean is inside the confidence interval\n",
        "\n",
        "prop_inside =      #Proportion inside the CI\n",
        "display(prop_inside)"
      ],
      "execution_count": null,
      "outputs": []
    },
    {
      "cell_type": "markdown",
      "metadata": {
        "id": "cWKauC7XIcuB"
      },
      "source": [
        "## Unknown Standard Deviation\n",
        "\n",
        "In the general case, when we do not know the true/theoretical standard deviation, we have to estimate it from the data.\n",
        "\n",
        "Our estimate for the sample variance is given by\n",
        "$$s^2 = \\frac{1}{n}[(x_1-\\bar{x})^2+(x_2-\\bar{x})^2+\\cdots+(x_n-\\bar{x})^2],$$\n",
        "from where we estimate the standard deviation by $s$.\n",
        "\n",
        "Above, the LLN tells us that our estimate of the sample mean gets closer and close to the true/theoretical mean, as the sample size increases. \n",
        "\n",
        "Moreover, the CLT tells us that it follows a Normal distribution."
      ]
    },
    {
      "cell_type": "markdown",
      "metadata": {
        "id": "GFNDTpz3NqXg"
      },
      "source": [
        "### Chi-squared distribution\n",
        "\n",
        "Notice that we are then taking squares of (approximately) Normal variables, which takes us to another commonly used distributions: the chi-squared distribution, denoted by $\\chi^2$.\n",
        "\n",
        "Formally, the chi-square distribution is defined as\n",
        "> Let $Y_1,Y_2,\\cdots,Y_n\\sim N(0,1)$, then $Z=(Y_1^2+Y_2+\\cdots+Y_n^2)$ follows a chi-square distribution with $n$ degrees of freedom, denoted as $Z^\\sim \\chi^2_n$,.\n",
        "\n",
        "We can see this in Python. \n",
        "\n",
        "To generate a sample from a chi-squared distribution with one degree of freedom, we generate values from the Normal distribution and square them. We then compare the histogram from our generated sample against the theoretical pdf of the chi-squared distribution."
      ]
    },
    {
      "cell_type": "code",
      "metadata": {
        "id": "Y0Nd_DQ-IcY7"
      },
      "source": [
        "  #Importing the chi-square distribution\n",
        "\n",
        "N = 1000 #Size of the sample\n",
        "\n",
        "Y =   #Generating a sample from the Normal\n",
        "W =   #Taking squares\n",
        "\n",
        "plt.hist(W,bins=100,density=True)  #Plotting the histogram\n",
        "\n",
        "\n",
        "vals = np.arange(0,10,0.1)  #Notice that the chi-square takes non-negative values\n",
        "chi_vals =   #Evaluationg the chi2 distribution\n",
        "plt.plot(vals,chi_vals,color=\"red\",linestyle=\"--\") #Adding the theoretical density"
      ],
      "execution_count": null,
      "outputs": []
    },
    {
      "cell_type": "markdown",
      "metadata": {
        "id": "NHTAK3DlROPM"
      },
      "source": [
        "Which shows that our sample corresponds to the chi-squared distribution with one degree of freedom.\n",
        "\n",
        "We plot several chi-squares distribution with different degrees of freedom to see the effect that it has on the shape."
      ]
    },
    {
      "cell_type": "code",
      "metadata": {
        "id": "9HDeFPLhYvCO"
      },
      "source": [
        "new_vals = list(np.arange(0,12,0.05))  #New grid\n",
        "vals_dfs =     #Different degrees of freedom\n",
        "\n",
        "for i in range(0,5):\n",
        "     #A plot for each degrees of freedom value\n",
        "plt.title(\"Chi-square distribution with different degrees of freedom\")\n",
        "plt.ylim(0,0.6) #Shortening the y axis\n",
        "  #Adding legends to identify each curve\n",
        "plt.show()"
      ],
      "execution_count": null,
      "outputs": []
    },
    {
      "cell_type": "markdown",
      "metadata": {
        "id": "RNrPUdJpalcT"
      },
      "source": [
        "### Student's t distribution\n",
        "\n",
        "Circling back to the confidence interval when we do not know the true/theoretical standard deviation. Consider the variable given by\n",
        "$$t = \\frac{(\\bar{X}-\\mu)/(\\sigma/\\sqrt(n))}{(s/\\sqrt(n))/(\\sigma/\\sqrt(n))},$$\n",
        "where $s$ is the estimate of the standard deviation.\n",
        "\n",
        "Turns out $t$ defined like this follows the final commonly used distribution for statistical tests, the *Student's t distribution*.\n",
        "\n",
        "Formally, the t distribution is defined as\n",
        "\n",
        "\n",
        ">  Let $X\\sim N(0,1)$ and $Y\\sim\\chi^2_n$ then $Z=\\frac{X}{\\sqrt{Y/n}}$ follows a t distribution with $n$ degrees of freedom, denoted as $Z^\\sim t_n$.\n",
        "\n",
        "Wrapping up, our statistic, when we do not know the standard deviation and we need to esimate it, formally follows a t distribution. \n",
        "\n",
        "Hence, formally we should use the t distribution to compute $Z_\\alpha$ to construct the confidence interval."
      ]
    },
    {
      "cell_type": "markdown",
      "metadata": {
        "id": "JJG9RExZgnlC"
      },
      "source": [
        "Once again, we can use Python to plot the t distribution."
      ]
    },
    {
      "cell_type": "code",
      "metadata": {
        "id": "SbeayPBngmt_"
      },
      "source": [
        "  #Importing the t distribution\n",
        "\n",
        "N = 1000 #Size of the sample\n",
        "deg_free = 5  #Degrees of freedom\n",
        "\n",
        "X = norm.rvs(size=N)  #Generating a sample from the Normal\n",
        "Y =   #Generating a sample from the chi2\n",
        "\n",
        "Z =   #Generating the t distribution\n",
        "\n",
        "plt.hist(Z,bins=20,density=True)  #Plotting the histogram\n",
        "\n",
        "vals = np.arange(-5,5,0.1)   #New grid\n",
        "  #Plot evaluating the t distribution directly\n",
        "plt.title(\"t distribution\")\n",
        "plt.show()"
      ],
      "execution_count": null,
      "outputs": []
    },
    {
      "cell_type": "markdown",
      "metadata": {
        "id": "hhLTRlzdiwUX"
      },
      "source": [
        "Properties of the t distribution:\n",
        "*   Bell-shape\n",
        "*   Symmetrical\n",
        "*   Unimodal\n",
        "*   Mean is the same as the mode and the median\n",
        "*   More weight in the tails than the Normal\n",
        "*   Gets close to the Normal as the degrees of freedom increase\n"
      ]
    },
    {
      "cell_type": "markdown",
      "metadata": {
        "id": "aCQK-mW9gTmd"
      },
      "source": [
        "## Our Simpsons example\n",
        "\n",
        "We construct the confidence interval for the sample mean of the Simpsons where we do not know the standard deviation.\n",
        "\n",
        "The t distribution is symmetrical, so we need to find $Z_{\\alpha/2}$ such that $(1-\\alpha/2)$ of the distribution is above it."
      ]
    },
    {
      "cell_type": "code",
      "metadata": {
        "id": "0mIUlVJVccBN"
      },
      "source": [
        "display()  #Finding the number of ratings or sample size\n",
        "          #for the degrees of freedom\n",
        "\n",
        "z_alpha =   #Percent point function: it finds the value such that \n",
        "                #the percentage is achieved.\n",
        "display(z_alpha)"
      ],
      "execution_count": null,
      "outputs": []
    },
    {
      "cell_type": "markdown",
      "metadata": {
        "id": "skVwXIRNel_X"
      },
      "source": [
        "For such a *large* sample size, $Z_{\\alpha/2}$ is almost the same value for the t distribution than for the Normal."
      ]
    },
    {
      "cell_type": "code",
      "metadata": {
        "id": "7hitNodxe3FD"
      },
      "source": [
        "  #Percent point function for the normal distribution"
      ],
      "execution_count": null,
      "outputs": []
    },
    {
      "cell_type": "markdown",
      "metadata": {
        "id": "pmaezCwMdssA"
      },
      "source": [
        "We compute the confidence interval."
      ]
    },
    {
      "cell_type": "code",
      "metadata": {
        "id": "03qOYMsBfAZF"
      },
      "source": [
        "lim_inf_simpsons =   #CI\n",
        "lim_sup_simpsons =    \n",
        "\n",
        "display([lim_inf_simpsons, lim_sup_simpsons])"
      ],
      "execution_count": null,
      "outputs": []
    },
    {
      "cell_type": "markdown",
      "metadata": {
        "id": "2AyEA8LUf19U"
      },
      "source": [
        "Which shows that for 95% of the samples that we *randomly* select, the sample mean is going to be between 7.13 and 7.26."
      ]
    },
    {
      "cell_type": "markdown",
      "metadata": {
        "id": "jFiroe_J-p2B"
      },
      "source": [
        "# Hypothesis Tests\n",
        "\n",
        "Above, without indicating it, we have taken most of the steps in a hypothesis test. \n",
        "\n",
        "We write them here for future reference:\n",
        "\n",
        "*   Set up the null and alternative hypothesis. \n",
        "\n",
        "*   Decide the level of significance required for this particular case and determine the critical value.\n",
        "\n",
        "*   Take a sample(s) and calculate the relevant parameters.\n",
        "\n",
        "*   Compare the calculated test statistic and the critical value. There are now only two situations:\n",
        "\n",
        "    a. The test statistic is in the tail: Cannot Accept the null\n",
        "\n",
        "    b. The test statistic is not in the tail: Cannot Reject the null\n",
        "\n",
        "*   Reach a conclusion. "
      ]
    },
    {
      "cell_type": "markdown",
      "metadata": {
        "id": "YHuc9gABjE3w"
      },
      "source": [
        "### Our Simpsons example\n",
        "\n",
        "The only thing that we forgot was to **mathematically** write our null hypothesis. \n",
        "\n",
        "This implies that we should *quantify* what is a good show. That means, we should decide on a rating such that if the Simpsons are above that, we call it a good show.\n",
        "\n",
        "Of course, the result of the test could vary depending on the number we settle on."
      ]
    },
    {
      "cell_type": "markdown",
      "metadata": {
        "id": "gk5e9tr0jqL2"
      },
      "source": [
        "Suppose we call it a good show if it gets a rating of 7.5 or above. Our null hypothesis would be then:\n",
        "\n",
        "> $H_0: \\overline{SimpsonsRatings}\\geq 7.5$ \n",
        "\n",
        "against the alternative\n",
        "\n",
        "> $H_a: \\overline{SimpsonsRatings}< 7.5$ \n",
        "\n",
        "Notice that this is actually a **one-tailed** test. \n",
        "\n",
        "First, we construct the statistic of the test:\n",
        "$$t_0 = \\frac{\\overline{SimpsonsRatings}-7.5}{\\frac{s}{\\sqrt{n}}},$$\n",
        "\n",
        "where $s$ is our estimate of the standard deviation.\n"
      ]
    },
    {
      "cell_type": "code",
      "metadata": {
        "id": "lJEbAGK8oPVL"
      },
      "source": [
        "t_0 =   #Compute the tests statistic\n",
        "display(t_0)"
      ],
      "execution_count": null,
      "outputs": []
    },
    {
      "cell_type": "markdown",
      "metadata": {
        "id": "HGYakIwhmCQq"
      },
      "source": [
        "Which we compare against the critical value and hence we reject the null."
      ]
    },
    {
      "cell_type": "code",
      "metadata": {
        "id": "IXEy21VglvLU"
      },
      "source": [
        "z_alpha_1side =   #Critical value from the oercent point function\n",
        "\n",
        "display(z_alpha_1side)"
      ],
      "execution_count": null,
      "outputs": []
    },
    {
      "cell_type": "markdown",
      "metadata": {
        "id": "0O1cV4GxmWw2"
      },
      "source": [
        "Alternatively, or additionally, we can compute the **p-value** of the test by computing the probability of observing the value in the sample under the assumption that the rating is 7.5"
      ]
    },
    {
      "cell_type": "code",
      "metadata": {
        "id": "ZkJR_K2fUpYs"
      },
      "source": [
        "   #Evaluating the p-value"
      ],
      "execution_count": null,
      "outputs": []
    }
  ]
}