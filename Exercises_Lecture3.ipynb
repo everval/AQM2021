{
  "nbformat": 4,
  "nbformat_minor": 0,
  "metadata": {
    "colab": {
      "name": "Exercises_Lecture3.ipynb",
      "provenance": [],
      "collapsed_sections": [],
      "include_colab_link": true
    },
    "kernelspec": {
      "name": "python3",
      "display_name": "Python 3"
    },
    "language_info": {
      "name": "python"
    }
  },
  "cells": [
    {
      "cell_type": "markdown",
      "metadata": {
        "id": "view-in-github",
        "colab_type": "text"
      },
      "source": [
        "<a href=\"https://colab.research.google.com/github/everval/AQM2021/blob/main/Exercises_Lecture3.ipynb\" target=\"_parent\"><img src=\"https://colab.research.google.com/assets/colab-badge.svg\" alt=\"Open In Colab\"/></a>"
      ]
    },
    {
      "cell_type": "markdown",
      "metadata": {
        "id": "Qi3e8MgUfaVY"
      },
      "source": [
        "# Exercises Confidence Intervals and Hypothesis Tests"
      ]
    },
    {
      "cell_type": "markdown",
      "metadata": {
        "id": "WrWft34p3oMG"
      },
      "source": [
        "We start by loading the required packages."
      ]
    },
    {
      "cell_type": "code",
      "metadata": {
        "id": "yp8RVszt3tWJ"
      },
      "source": [
        "import numpy as np #Package for numerical multidimensional tables\n",
        "import pandas as pd #Package for data frames\n",
        "import matplotlib.pyplot as plt #Package for plots and graphs\n",
        "import random as rnd #Package for random number generation\n",
        "from scipy.stats import norm #Import the Normal distribution from the scipy.stats package\n",
        "from scipy.stats import binom  #Importing the binomial distribution\n",
        "from scipy.stats import chi2  #Importing the binomial distribution\n",
        "from scipy.stats import t  #Importing the binomial distribution"
      ],
      "execution_count": null,
      "outputs": []
    },
    {
      "cell_type": "markdown",
      "metadata": {
        "id": "C2bRrflORf8M"
      },
      "source": [
        "## 1\n",
        "\n",
        "In the lecture we analyzed the effect that a change on the degrees of freedom has on the Chi-squared distribution.\n",
        "\n",
        "Now you are going to analyze the effect of a change on the degrees of freedom has on the t distribution.\n",
        "\n",
        "\n",
        "\n",
        "*   Import the t distribution from the scipy.stats package.\n",
        "*   Make a grid of values from -6 to 6.\n",
        "*   Plot the pdf for $t_1,t_2,t_{5},t_{30}$. You can use a **for** loop for this.\n",
        "*   Add the pdf of the standard Normal distribution to your plot.\n",
        "\n",
        "What do you see happens to the t distribution as you increase the degrees of freedom?"
      ]
    },
    {
      "cell_type": "code",
      "metadata": {
        "id": "XXm1J74C3i8N"
      },
      "source": [
        ""
      ],
      "execution_count": null,
      "outputs": []
    },
    {
      "cell_type": "markdown",
      "metadata": {
        "id": "Vo3QY98A504x"
      },
      "source": [
        "## 2\n",
        "\n",
        "Let $X\\sim \\chi^2_{10}$ and $Y\\sim t_{5}$. Compute the following probabilities:\n",
        "\n",
        "*   $P(X>10)$\n",
        "*   $P(2<X<5)$\n",
        "*   $P(-2<Y<2)$\n",
        "*   $P(Y<0)$\n"
      ]
    },
    {
      "cell_type": "code",
      "metadata": {
        "id": "k5IyHhco68Mw"
      },
      "source": [
        ""
      ],
      "execution_count": null,
      "outputs": []
    },
    {
      "cell_type": "markdown",
      "metadata": {
        "id": "mz4B9knP7cSV"
      },
      "source": [
        "## 3\n",
        "\n",
        "You are going to run the hypothesis test on whether Family Guy is a good show.\n",
        "\n",
        "For that, you will follow the steps below.\n"
      ]
    },
    {
      "cell_type": "markdown",
      "metadata": {
        "id": "b-zfOh-uq-SW"
      },
      "source": [
        "### a) Load the data, print it and create an hisogram.\n"
      ]
    },
    {
      "cell_type": "code",
      "metadata": {
        "id": "lhjs6ltZrIwc"
      },
      "source": [
        "from google.colab import files\n",
        "uploaded = files.upload()"
      ],
      "execution_count": null,
      "outputs": []
    },
    {
      "cell_type": "markdown",
      "metadata": {
        "id": "7PCKGVkFrKQB"
      },
      "source": [
        "### b) Compute the mean and standard deviation of the data for latter use. Display the values."
      ]
    },
    {
      "cell_type": "code",
      "metadata": {
        "id": "w9jOSYlsrWGc"
      },
      "source": [
        ""
      ],
      "execution_count": null,
      "outputs": []
    },
    {
      "cell_type": "markdown",
      "metadata": {
        "id": "AfWQkNvbrWXZ"
      },
      "source": [
        "### c) Using the CLT, compute the mean and standard deviation for the sample mean. Display your results. Plot the Normal distribution from the CLT."
      ]
    },
    {
      "cell_type": "code",
      "metadata": {
        "id": "vvtIqgxLr0jH"
      },
      "source": [
        ""
      ],
      "execution_count": null,
      "outputs": []
    },
    {
      "cell_type": "markdown",
      "metadata": {
        "id": "ET4iMaTKr0sc"
      },
      "source": [
        "### d) Under the assumption that the standard deviation is known, compute a 95% confidence interval for the sample mean."
      ]
    },
    {
      "cell_type": "code",
      "metadata": {
        "id": "gePfy03rsAd0"
      },
      "source": [
        ""
      ],
      "execution_count": null,
      "outputs": []
    },
    {
      "cell_type": "markdown",
      "metadata": {
        "id": "VsdGomvLsAlM"
      },
      "source": [
        "### e) Under the correct assumption of an unknown standard deviation, compute the t statistic of the hypothesis test:\n",
        "\n",
        "> $H_0: \\overline{FamilyGuyRatings}\\geq 7.5$ \n",
        "\n",
        "against the alternative\n",
        "\n",
        "> $H_a: \\overline{FamilyGuyRatings}< 7.5$ \n",
        "\n",
        "Plot the t distribution associated to the test."
      ]
    },
    {
      "cell_type": "code",
      "metadata": {
        "id": "SrG1rippsaF4"
      },
      "source": [
        ""
      ],
      "execution_count": null,
      "outputs": []
    },
    {
      "cell_type": "markdown",
      "metadata": {
        "id": "0NDsSOaSsaPj"
      },
      "source": [
        "### f) Obtain the critical value for the test. That is, evaluate the percent point function of the t distribution at 0.05 with the correct number of degrees of freedom.\n",
        "\n",
        "Compare the value just obtained against the t statistic defined in e), and reach a conclusion."
      ]
    },
    {
      "cell_type": "code",
      "metadata": {
        "id": "ptCu0JjbsyUB"
      },
      "source": [
        ""
      ],
      "execution_count": null,
      "outputs": []
    },
    {
      "cell_type": "markdown",
      "metadata": {
        "id": "FMnRAeoosybA"
      },
      "source": [
        "### g) Compute the p-value of the test"
      ]
    },
    {
      "cell_type": "code",
      "metadata": {
        "id": "1LQEZS_fs2cN"
      },
      "source": [
        ""
      ],
      "execution_count": null,
      "outputs": []
    }
  ]
}